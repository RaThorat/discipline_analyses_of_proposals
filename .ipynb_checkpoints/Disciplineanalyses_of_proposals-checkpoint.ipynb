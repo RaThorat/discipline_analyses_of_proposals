{
 "cells": [
  {
   "cell_type": "markdown",
   "metadata": {},
   "source": [
    "#  Discipline analysis of grant proposals"
   ]
  },
  {
   "cell_type": "markdown",
   "metadata": {},
   "source": [
    "It is important for a granting agency to know how the distribution of the applications qua disciplines is. \n",
    "ˆ How many applications belong to Exact Science disciplines, how many fall within one discipline?\n",
    "ˆ How many applications with disciplines outside exact sciences domain have been submitted?"
   ]
  },
  {
   "cell_type": "markdown",
   "metadata": {},
   "source": [
    "reference"
   ]
  },
  {
   "cell_type": "markdown",
   "metadata": {},
   "source": [
    "https://github.com/RaThorat/discipline_analyses_of_proposals"
   ]
  },
  {
   "cell_type": "markdown",
   "metadata": {},
   "source": [
    "https://stackoverflow.com/questions/74335925/is-there-a-better-way-to-summerize-a-table-information-instead-of-using-iloc-and"
   ]
  },
  {
   "cell_type": "markdown",
   "metadata": {},
   "source": [
    "Importing various modules required for analysis"
   ]
  },
  {
   "cell_type": "code",
   "execution_count": 117,
   "metadata": {},
   "outputs": [],
   "source": [
    "import xlsxwriter \n",
    "import scipy.sparse as sp\n",
    "import numpy as np\n",
    "import os\n",
    "os.getcwd()\n",
    "import tkinter as tk\n",
    "from tkinter import filedialog\n",
    "import pandas as pd"
   ]
  },
  {
   "cell_type": "markdown",
   "metadata": {},
   "source": [
    "Importing the submitted proposals file with Tkinter module, 'Example input file submitted proposals.xlsx'"
   ]
  },
  {
   "cell_type": "code",
   "execution_count": 118,
   "metadata": {},
   "outputs": [],
   "source": [
    "root= tk.Tk()\n",
    "\n",
    "canvas1 = tk.Canvas(root, width = 600, height = 300, bg = 'lightsteelblue')\n",
    "canvas1.pack()\n",
    "\n",
    "def getExcel ():\n",
    "    global dfA\n",
    "    \n",
    "    import_file_path = filedialog.askopenfilename()\n",
    "    dfA = pd.read_excel (import_file_path)\n",
    "    #print(dfA)\n",
    "    \n",
    "browseButton_Excel = tk.Button(text='Import \"Example input file submitted proposals.xlsx\"', command=getExcel, bg='green', fg='white', font=('helvetica', 12, 'bold'))\n",
    "canvas1.create_window(200, 200, window=browseButton_Excel)\n",
    "\n",
    "root.mainloop()\n"
   ]
  },
  {
   "cell_type": "markdown",
   "metadata": {},
   "source": [
    "Importing the successful proposals file with Tkinter module"
   ]
  },
  {
   "cell_type": "code",
   "execution_count": 119,
   "metadata": {},
   "outputs": [],
   "source": [
    "root= tk.Tk()\n",
    "\n",
    "canvas1 = tk.Canvas(root, width = 600, height = 300, bg = 'lightsteelblue')\n",
    "canvas1.pack()\n",
    "\n",
    "def getExcel ():\n",
    "    global dfG\n",
    "    \n",
    "    import_file_path = filedialog.askopenfilename()\n",
    "    dfG = pd.read_excel (import_file_path)\n",
    "    #print (dfG)\n",
    "    \n",
    "browseButton_Excel = tk.Button(text='Import \"Example input file successful proposals.xlsx\"', command=getExcel, bg='green', fg='white', font=('helvetica', 12, 'bold'))\n",
    "canvas1.create_window(200, 200, window=browseButton_Excel)\n",
    "\n",
    "root.mainloop()\n"
   ]
  },
  {
   "cell_type": "markdown",
   "metadata": {},
   "source": [
    "## Cleaning of the datafames"
   ]
  },
  {
   "cell_type": "markdown",
   "metadata": {},
   "source": [
    "Turning the NaN values in the dataframes into zero values"
   ]
  },
  {
   "cell_type": "code",
   "execution_count": 120,
   "metadata": {},
   "outputs": [],
   "source": [
    "dfA=dfA.fillna(0)\n",
    "dfG=dfG.fillna(0)"
   ]
  },
  {
   "cell_type": "markdown",
   "metadata": {},
   "source": [
    "checking the excel file in the form of data frame"
   ]
  },
  {
   "cell_type": "code",
   "execution_count": 121,
   "metadata": {
    "scrolled": true
   },
   "outputs": [
    {
     "data": {
      "text/html": [
       "<div>\n",
       "<style scoped>\n",
       "    .dataframe tbody tr th:only-of-type {\n",
       "        vertical-align: middle;\n",
       "    }\n",
       "\n",
       "    .dataframe tbody tr th {\n",
       "        vertical-align: top;\n",
       "    }\n",
       "\n",
       "    .dataframe thead th {\n",
       "        text-align: right;\n",
       "    }\n",
       "</style>\n",
       "<table border=\"1\" class=\"dataframe\">\n",
       "  <thead>\n",
       "    <tr style=\"text-align: right;\">\n",
       "      <th></th>\n",
       "      <th>Application number</th>\n",
       "      <th>Earth sciences</th>\n",
       "      <th>Archeology</th>\n",
       "      <th>Biology</th>\n",
       "      <th>Animal Welfare</th>\n",
       "      <th>Gender studies</th>\n",
       "      <th>Medicine</th>\n",
       "      <th>Information Technology</th>\n",
       "      <th>Art and Architecture</th>\n",
       "      <th>Life sciences</th>\n",
       "      <th>...</th>\n",
       "      <th>Enviormental Sciences</th>\n",
       "      <th>Physics</th>\n",
       "      <th>Physics and Technology</th>\n",
       "      <th>Development studies</th>\n",
       "      <th>Psychology</th>\n",
       "      <th>Chemistry</th>\n",
       "      <th>Astronomy</th>\n",
       "      <th>Language</th>\n",
       "      <th>Technical Sciences</th>\n",
       "      <th>Mathematics</th>\n",
       "    </tr>\n",
       "  </thead>\n",
       "  <tbody>\n",
       "    <tr>\n",
       "      <th>0</th>\n",
       "      <td>1</td>\n",
       "      <td>0.0</td>\n",
       "      <td>0.0</td>\n",
       "      <td>1.0</td>\n",
       "      <td>0.0</td>\n",
       "      <td>0.0</td>\n",
       "      <td>0.0</td>\n",
       "      <td>0.0</td>\n",
       "      <td>0.0</td>\n",
       "      <td>0.0</td>\n",
       "      <td>...</td>\n",
       "      <td>0.0</td>\n",
       "      <td>0.0</td>\n",
       "      <td>0.0</td>\n",
       "      <td>0.0</td>\n",
       "      <td>0.0</td>\n",
       "      <td>0.0</td>\n",
       "      <td>0.0</td>\n",
       "      <td>0.0</td>\n",
       "      <td>0.0</td>\n",
       "      <td>0.0</td>\n",
       "    </tr>\n",
       "    <tr>\n",
       "      <th>1</th>\n",
       "      <td>2</td>\n",
       "      <td>0.0</td>\n",
       "      <td>0.0</td>\n",
       "      <td>1.0</td>\n",
       "      <td>0.0</td>\n",
       "      <td>0.0</td>\n",
       "      <td>0.0</td>\n",
       "      <td>0.0</td>\n",
       "      <td>0.0</td>\n",
       "      <td>1.0</td>\n",
       "      <td>...</td>\n",
       "      <td>0.0</td>\n",
       "      <td>0.0</td>\n",
       "      <td>0.0</td>\n",
       "      <td>0.0</td>\n",
       "      <td>0.0</td>\n",
       "      <td>1.0</td>\n",
       "      <td>0.0</td>\n",
       "      <td>0.0</td>\n",
       "      <td>0.0</td>\n",
       "      <td>0.0</td>\n",
       "    </tr>\n",
       "  </tbody>\n",
       "</table>\n",
       "<p>2 rows × 21 columns</p>\n",
       "</div>"
      ],
      "text/plain": [
       "   Application number  Earth sciences  Archeology  Biology  Animal Welfare  \\\n",
       "0                   1             0.0         0.0      1.0             0.0   \n",
       "1                   2             0.0         0.0      1.0             0.0   \n",
       "\n",
       "   Gender studies  Medicine  Information Technology  Art and Architecture  \\\n",
       "0             0.0       0.0                     0.0                   0.0   \n",
       "1             0.0       0.0                     0.0                   0.0   \n",
       "\n",
       "   Life sciences  ...  Enviormental Sciences  Physics  Physics and Technology  \\\n",
       "0            0.0  ...                    0.0      0.0                     0.0   \n",
       "1            1.0  ...                    0.0      0.0                     0.0   \n",
       "\n",
       "   Development studies  Psychology  Chemistry  Astronomy  Language  \\\n",
       "0                  0.0         0.0        0.0        0.0       0.0   \n",
       "1                  0.0         0.0        1.0        0.0       0.0   \n",
       "\n",
       "   Technical Sciences  Mathematics  \n",
       "0                 0.0          0.0  \n",
       "1                 0.0          0.0  \n",
       "\n",
       "[2 rows x 21 columns]"
      ]
     },
     "execution_count": 121,
     "metadata": {},
     "output_type": "execute_result"
    }
   ],
   "source": [
    "dfA.head(2)"
   ]
  },
  {
   "cell_type": "code",
   "execution_count": 122,
   "metadata": {},
   "outputs": [
    {
     "data": {
      "text/plain": [
       "92"
      ]
     },
     "execution_count": 122,
     "metadata": {},
     "output_type": "execute_result"
    }
   ],
   "source": [
    "len(dfA.index)"
   ]
  },
  {
   "cell_type": "markdown",
   "metadata": {},
   "source": [
    "checking how many rows and columns the dataframe has"
   ]
  },
  {
   "cell_type": "code",
   "execution_count": 123,
   "metadata": {},
   "outputs": [
    {
     "data": {
      "text/plain": [
       "(92, 21)"
      ]
     },
     "execution_count": 123,
     "metadata": {},
     "output_type": "execute_result"
    }
   ],
   "source": [
    "dfA.shape"
   ]
  },
  {
   "cell_type": "markdown",
   "metadata": {},
   "source": [
    "checking the excel file in the form of data frame"
   ]
  },
  {
   "cell_type": "code",
   "execution_count": 124,
   "metadata": {},
   "outputs": [
    {
     "data": {
      "text/html": [
       "<div>\n",
       "<style scoped>\n",
       "    .dataframe tbody tr th:only-of-type {\n",
       "        vertical-align: middle;\n",
       "    }\n",
       "\n",
       "    .dataframe tbody tr th {\n",
       "        vertical-align: top;\n",
       "    }\n",
       "\n",
       "    .dataframe thead th {\n",
       "        text-align: right;\n",
       "    }\n",
       "</style>\n",
       "<table border=\"1\" class=\"dataframe\">\n",
       "  <thead>\n",
       "    <tr style=\"text-align: right;\">\n",
       "      <th></th>\n",
       "      <th>Application number</th>\n",
       "      <th>Earth sciences</th>\n",
       "      <th>Archeology</th>\n",
       "      <th>Biology</th>\n",
       "      <th>Animal Welfare</th>\n",
       "      <th>Gender studies</th>\n",
       "      <th>Medicine</th>\n",
       "      <th>Information Technology</th>\n",
       "      <th>Art and Architecture</th>\n",
       "      <th>Life sciences</th>\n",
       "      <th>...</th>\n",
       "      <th>Enviormental Sciences</th>\n",
       "      <th>Physics</th>\n",
       "      <th>Physics and Technology</th>\n",
       "      <th>Development studies</th>\n",
       "      <th>Psychology</th>\n",
       "      <th>Chemistry</th>\n",
       "      <th>Astronomy</th>\n",
       "      <th>Language</th>\n",
       "      <th>Technical Sciences</th>\n",
       "      <th>Mathematics</th>\n",
       "    </tr>\n",
       "  </thead>\n",
       "  <tbody>\n",
       "    <tr>\n",
       "      <th>0</th>\n",
       "      <td>1</td>\n",
       "      <td>0.0</td>\n",
       "      <td>0.0</td>\n",
       "      <td>0.0</td>\n",
       "      <td>0.0</td>\n",
       "      <td>0.0</td>\n",
       "      <td>0.0</td>\n",
       "      <td>0.0</td>\n",
       "      <td>0.0</td>\n",
       "      <td>0.0</td>\n",
       "      <td>...</td>\n",
       "      <td>0.0</td>\n",
       "      <td>0.0</td>\n",
       "      <td>0.0</td>\n",
       "      <td>0.0</td>\n",
       "      <td>0.0</td>\n",
       "      <td>0.0</td>\n",
       "      <td>0.0</td>\n",
       "      <td>0.0</td>\n",
       "      <td>0.0</td>\n",
       "      <td>0.0</td>\n",
       "    </tr>\n",
       "    <tr>\n",
       "      <th>1</th>\n",
       "      <td>2</td>\n",
       "      <td>0.0</td>\n",
       "      <td>0.0</td>\n",
       "      <td>0.0</td>\n",
       "      <td>0.0</td>\n",
       "      <td>0.0</td>\n",
       "      <td>0.0</td>\n",
       "      <td>0.0</td>\n",
       "      <td>0.0</td>\n",
       "      <td>0.0</td>\n",
       "      <td>...</td>\n",
       "      <td>0.0</td>\n",
       "      <td>0.0</td>\n",
       "      <td>0.0</td>\n",
       "      <td>0.0</td>\n",
       "      <td>0.0</td>\n",
       "      <td>0.0</td>\n",
       "      <td>0.0</td>\n",
       "      <td>0.0</td>\n",
       "      <td>0.0</td>\n",
       "      <td>0.0</td>\n",
       "    </tr>\n",
       "  </tbody>\n",
       "</table>\n",
       "<p>2 rows × 21 columns</p>\n",
       "</div>"
      ],
      "text/plain": [
       "   Application number  Earth sciences  Archeology  Biology  Animal Welfare  \\\n",
       "0                   1             0.0         0.0      0.0             0.0   \n",
       "1                   2             0.0         0.0      0.0             0.0   \n",
       "\n",
       "   Gender studies  Medicine  Information Technology  Art and Architecture  \\\n",
       "0             0.0       0.0                     0.0                   0.0   \n",
       "1             0.0       0.0                     0.0                   0.0   \n",
       "\n",
       "   Life sciences  ...  Enviormental Sciences  Physics  Physics and Technology  \\\n",
       "0            0.0  ...                    0.0      0.0                     0.0   \n",
       "1            0.0  ...                    0.0      0.0                     0.0   \n",
       "\n",
       "   Development studies  Psychology  Chemistry  Astronomy  Language  \\\n",
       "0                  0.0         0.0        0.0        0.0       0.0   \n",
       "1                  0.0         0.0        0.0        0.0       0.0   \n",
       "\n",
       "   Technical Sciences  Mathematics  \n",
       "0                 0.0          0.0  \n",
       "1                 0.0          0.0  \n",
       "\n",
       "[2 rows x 21 columns]"
      ]
     },
     "execution_count": 124,
     "metadata": {},
     "output_type": "execute_result"
    }
   ],
   "source": [
    "dfG.head(2)"
   ]
  },
  {
   "cell_type": "markdown",
   "metadata": {},
   "source": [
    "checking how many rows and columns the dataframe has"
   ]
  },
  {
   "cell_type": "code",
   "execution_count": 125,
   "metadata": {
    "scrolled": true
   },
   "outputs": [
    {
     "data": {
      "text/plain": [
       "(92, 21)"
      ]
     },
     "execution_count": 125,
     "metadata": {},
     "output_type": "execute_result"
    }
   ],
   "source": [
    "dfG.shape"
   ]
  },
  {
   "cell_type": "markdown",
   "metadata": {},
   "source": [
    "Adding a column for counting all discipline appearances per proposal"
   ]
  },
  {
   "cell_type": "code",
   "execution_count": 126,
   "metadata": {},
   "outputs": [],
   "source": [
    "dfA['All_Discipline_count']=dfA.loc[:,'Earth sciences' : 'Mathematics'].sum(axis=1)\n",
    "dfG['All_Discipline_count']=dfG.loc[:,'Earth sciences' : 'Mathematics'].sum(axis=1)"
   ]
  },
  {
   "cell_type": "markdown",
   "metadata": {},
   "source": [
    "Adding a column ENWtotaal for counting Exact and Natural sciences (ENW) discipline appearances per proposal"
   ]
  },
  {
   "cell_type": "code",
   "execution_count": 127,
   "metadata": {},
   "outputs": [],
   "source": [
    "dfA['ENW_Discipline_count']=dfA.loc[:, ['Earth sciences', 'Biology', 'Information Technology','Life sciences', 'Enviormental Sciences', 'Physics', 'Chemistry', 'Astronomy', 'Mathematics']].sum(axis=1)\n",
    "dfG['ENW_Discipline_count']=dfG.loc[:, ['Earth sciences', 'Biology', 'Information Technology','Life sciences', 'Enviormental Sciences', 'Physics', 'Chemistry', 'Astronomy', 'Mathematics']].sum(axis=1)\n"
   ]
  },
  {
   "cell_type": "markdown",
   "metadata": {},
   "source": [
    "Segregating multidiscipline proposals from monodiscipline proposals in apart dataframe"
   ]
  },
  {
   "cell_type": "code",
   "execution_count": 128,
   "metadata": {},
   "outputs": [],
   "source": [
    "dfA_multidisci=dfA[(dfA.All_Discipline_count>1)]\n",
    "dfG_multidisci=dfG[(dfA.All_Discipline_count>1)]"
   ]
  },
  {
   "cell_type": "markdown",
   "metadata": {},
   "source": [
    "Segregating ENW monodiscipline proposals from non ENW monodiscipline proposals in apart dataframe"
   ]
  },
  {
   "cell_type": "code",
   "execution_count": 129,
   "metadata": {},
   "outputs": [],
   "source": [
    "dfA_ENW_monodisci=dfA[(dfA.All_Discipline_count==1) & (dfA.ENW_Discipline_count==1)]\n",
    "dfG_ENW_monodisci=dfA[(dfG.All_Discipline_count==1) & (dfG.ENW_Discipline_count==1)]"
   ]
  },
  {
   "cell_type": "markdown",
   "metadata": {},
   "source": [
    "Segregating non ENW monodiscipline proposals from non ENW monodiscipline proposals in apart dataframe"
   ]
  },
  {
   "cell_type": "code",
   "execution_count": 130,
   "metadata": {},
   "outputs": [],
   "source": [
    "dfA_zonder_ENW_monodisci=dfA[(dfA.All_Discipline_count==1) & (dfA.ENW_Discipline_count==0)]#selecting the non ENW monodiscipline rows\n",
    "dfG_zonder_ENW_monodisci=dfG[(dfG.All_Discipline_count==1) & (dfG.ENW_Discipline_count==0)]#selecting the non ENW monodiscipline rows"
   ]
  },
  {
   "cell_type": "markdown",
   "metadata": {},
   "source": [
    "checking multidiscipline proposals dataframe"
   ]
  },
  {
   "cell_type": "code",
   "execution_count": 131,
   "metadata": {},
   "outputs": [
    {
     "data": {
      "text/html": [
       "<div>\n",
       "<style scoped>\n",
       "    .dataframe tbody tr th:only-of-type {\n",
       "        vertical-align: middle;\n",
       "    }\n",
       "\n",
       "    .dataframe tbody tr th {\n",
       "        vertical-align: top;\n",
       "    }\n",
       "\n",
       "    .dataframe thead th {\n",
       "        text-align: right;\n",
       "    }\n",
       "</style>\n",
       "<table border=\"1\" class=\"dataframe\">\n",
       "  <thead>\n",
       "    <tr style=\"text-align: right;\">\n",
       "      <th></th>\n",
       "      <th>Application number</th>\n",
       "      <th>Earth sciences</th>\n",
       "      <th>Archeology</th>\n",
       "      <th>Biology</th>\n",
       "      <th>Animal Welfare</th>\n",
       "      <th>Gender studies</th>\n",
       "      <th>Medicine</th>\n",
       "      <th>Information Technology</th>\n",
       "      <th>Art and Architecture</th>\n",
       "      <th>Life sciences</th>\n",
       "      <th>...</th>\n",
       "      <th>Physics and Technology</th>\n",
       "      <th>Development studies</th>\n",
       "      <th>Psychology</th>\n",
       "      <th>Chemistry</th>\n",
       "      <th>Astronomy</th>\n",
       "      <th>Language</th>\n",
       "      <th>Technical Sciences</th>\n",
       "      <th>Mathematics</th>\n",
       "      <th>All_Discipline_count</th>\n",
       "      <th>ENW_Discipline_count</th>\n",
       "    </tr>\n",
       "  </thead>\n",
       "  <tbody>\n",
       "    <tr>\n",
       "      <th>1</th>\n",
       "      <td>2</td>\n",
       "      <td>0.0</td>\n",
       "      <td>0.0</td>\n",
       "      <td>1.0</td>\n",
       "      <td>0.0</td>\n",
       "      <td>0.0</td>\n",
       "      <td>0.0</td>\n",
       "      <td>0.0</td>\n",
       "      <td>0.0</td>\n",
       "      <td>1.0</td>\n",
       "      <td>...</td>\n",
       "      <td>0.0</td>\n",
       "      <td>0.0</td>\n",
       "      <td>0.0</td>\n",
       "      <td>1.0</td>\n",
       "      <td>0.0</td>\n",
       "      <td>0.0</td>\n",
       "      <td>0.0</td>\n",
       "      <td>0.0</td>\n",
       "      <td>3.0</td>\n",
       "      <td>3.0</td>\n",
       "    </tr>\n",
       "    <tr>\n",
       "      <th>3</th>\n",
       "      <td>4</td>\n",
       "      <td>0.0</td>\n",
       "      <td>0.0</td>\n",
       "      <td>0.0</td>\n",
       "      <td>0.0</td>\n",
       "      <td>0.0</td>\n",
       "      <td>0.0</td>\n",
       "      <td>0.0</td>\n",
       "      <td>0.0</td>\n",
       "      <td>0.0</td>\n",
       "      <td>...</td>\n",
       "      <td>0.0</td>\n",
       "      <td>0.0</td>\n",
       "      <td>0.0</td>\n",
       "      <td>1.0</td>\n",
       "      <td>0.0</td>\n",
       "      <td>0.0</td>\n",
       "      <td>0.0</td>\n",
       "      <td>0.0</td>\n",
       "      <td>2.0</td>\n",
       "      <td>2.0</td>\n",
       "    </tr>\n",
       "  </tbody>\n",
       "</table>\n",
       "<p>2 rows × 23 columns</p>\n",
       "</div>"
      ],
      "text/plain": [
       "   Application number  Earth sciences  Archeology  Biology  Animal Welfare  \\\n",
       "1                   2             0.0         0.0      1.0             0.0   \n",
       "3                   4             0.0         0.0      0.0             0.0   \n",
       "\n",
       "   Gender studies  Medicine  Information Technology  Art and Architecture  \\\n",
       "1             0.0       0.0                     0.0                   0.0   \n",
       "3             0.0       0.0                     0.0                   0.0   \n",
       "\n",
       "   Life sciences  ...  Physics and Technology  Development studies  \\\n",
       "1            1.0  ...                     0.0                  0.0   \n",
       "3            0.0  ...                     0.0                  0.0   \n",
       "\n",
       "   Psychology  Chemistry  Astronomy  Language  Technical Sciences  \\\n",
       "1         0.0        1.0        0.0       0.0                 0.0   \n",
       "3         0.0        1.0        0.0       0.0                 0.0   \n",
       "\n",
       "   Mathematics  All_Discipline_count  ENW_Discipline_count  \n",
       "1          0.0                   3.0                   3.0  \n",
       "3          0.0                   2.0                   2.0  \n",
       "\n",
       "[2 rows x 23 columns]"
      ]
     },
     "execution_count": 131,
     "metadata": {},
     "output_type": "execute_result"
    }
   ],
   "source": [
    "dfA_multidisci.head(2)"
   ]
  },
  {
   "cell_type": "markdown",
   "metadata": {},
   "source": [
    "checking ENW monodiscipline proposals dataframe"
   ]
  },
  {
   "cell_type": "code",
   "execution_count": 132,
   "metadata": {},
   "outputs": [
    {
     "data": {
      "text/html": [
       "<div>\n",
       "<style scoped>\n",
       "    .dataframe tbody tr th:only-of-type {\n",
       "        vertical-align: middle;\n",
       "    }\n",
       "\n",
       "    .dataframe tbody tr th {\n",
       "        vertical-align: top;\n",
       "    }\n",
       "\n",
       "    .dataframe thead th {\n",
       "        text-align: right;\n",
       "    }\n",
       "</style>\n",
       "<table border=\"1\" class=\"dataframe\">\n",
       "  <thead>\n",
       "    <tr style=\"text-align: right;\">\n",
       "      <th></th>\n",
       "      <th>Application number</th>\n",
       "      <th>Earth sciences</th>\n",
       "      <th>Archeology</th>\n",
       "      <th>Biology</th>\n",
       "      <th>Animal Welfare</th>\n",
       "      <th>Gender studies</th>\n",
       "      <th>Medicine</th>\n",
       "      <th>Information Technology</th>\n",
       "      <th>Art and Architecture</th>\n",
       "      <th>Life sciences</th>\n",
       "      <th>...</th>\n",
       "      <th>Physics and Technology</th>\n",
       "      <th>Development studies</th>\n",
       "      <th>Psychology</th>\n",
       "      <th>Chemistry</th>\n",
       "      <th>Astronomy</th>\n",
       "      <th>Language</th>\n",
       "      <th>Technical Sciences</th>\n",
       "      <th>Mathematics</th>\n",
       "      <th>All_Discipline_count</th>\n",
       "      <th>ENW_Discipline_count</th>\n",
       "    </tr>\n",
       "  </thead>\n",
       "  <tbody>\n",
       "    <tr>\n",
       "      <th>0</th>\n",
       "      <td>1</td>\n",
       "      <td>0.0</td>\n",
       "      <td>0.0</td>\n",
       "      <td>1.0</td>\n",
       "      <td>0.0</td>\n",
       "      <td>0.0</td>\n",
       "      <td>0.0</td>\n",
       "      <td>0.0</td>\n",
       "      <td>0.0</td>\n",
       "      <td>0.0</td>\n",
       "      <td>...</td>\n",
       "      <td>0.0</td>\n",
       "      <td>0.0</td>\n",
       "      <td>0.0</td>\n",
       "      <td>0.0</td>\n",
       "      <td>0.0</td>\n",
       "      <td>0.0</td>\n",
       "      <td>0.0</td>\n",
       "      <td>0.0</td>\n",
       "      <td>1.0</td>\n",
       "      <td>1.0</td>\n",
       "    </tr>\n",
       "    <tr>\n",
       "      <th>2</th>\n",
       "      <td>3</td>\n",
       "      <td>0.0</td>\n",
       "      <td>0.0</td>\n",
       "      <td>0.0</td>\n",
       "      <td>0.0</td>\n",
       "      <td>0.0</td>\n",
       "      <td>0.0</td>\n",
       "      <td>0.0</td>\n",
       "      <td>0.0</td>\n",
       "      <td>1.0</td>\n",
       "      <td>...</td>\n",
       "      <td>0.0</td>\n",
       "      <td>0.0</td>\n",
       "      <td>0.0</td>\n",
       "      <td>0.0</td>\n",
       "      <td>0.0</td>\n",
       "      <td>0.0</td>\n",
       "      <td>0.0</td>\n",
       "      <td>0.0</td>\n",
       "      <td>1.0</td>\n",
       "      <td>1.0</td>\n",
       "    </tr>\n",
       "  </tbody>\n",
       "</table>\n",
       "<p>2 rows × 23 columns</p>\n",
       "</div>"
      ],
      "text/plain": [
       "   Application number  Earth sciences  Archeology  Biology  Animal Welfare  \\\n",
       "0                   1             0.0         0.0      1.0             0.0   \n",
       "2                   3             0.0         0.0      0.0             0.0   \n",
       "\n",
       "   Gender studies  Medicine  Information Technology  Art and Architecture  \\\n",
       "0             0.0       0.0                     0.0                   0.0   \n",
       "2             0.0       0.0                     0.0                   0.0   \n",
       "\n",
       "   Life sciences  ...  Physics and Technology  Development studies  \\\n",
       "0            0.0  ...                     0.0                  0.0   \n",
       "2            1.0  ...                     0.0                  0.0   \n",
       "\n",
       "   Psychology  Chemistry  Astronomy  Language  Technical Sciences  \\\n",
       "0         0.0        0.0        0.0       0.0                 0.0   \n",
       "2         0.0        0.0        0.0       0.0                 0.0   \n",
       "\n",
       "   Mathematics  All_Discipline_count  ENW_Discipline_count  \n",
       "0          0.0                   1.0                   1.0  \n",
       "2          0.0                   1.0                   1.0  \n",
       "\n",
       "[2 rows x 23 columns]"
      ]
     },
     "execution_count": 132,
     "metadata": {},
     "output_type": "execute_result"
    }
   ],
   "source": [
    "dfA_ENW_monodisci.head(2)"
   ]
  },
  {
   "cell_type": "markdown",
   "metadata": {},
   "source": [
    "checking non ENW monodiscipline proposals dataframe"
   ]
  },
  {
   "cell_type": "code",
   "execution_count": 133,
   "metadata": {},
   "outputs": [
    {
     "data": {
      "text/html": [
       "<div>\n",
       "<style scoped>\n",
       "    .dataframe tbody tr th:only-of-type {\n",
       "        vertical-align: middle;\n",
       "    }\n",
       "\n",
       "    .dataframe tbody tr th {\n",
       "        vertical-align: top;\n",
       "    }\n",
       "\n",
       "    .dataframe thead th {\n",
       "        text-align: right;\n",
       "    }\n",
       "</style>\n",
       "<table border=\"1\" class=\"dataframe\">\n",
       "  <thead>\n",
       "    <tr style=\"text-align: right;\">\n",
       "      <th></th>\n",
       "      <th>Application number</th>\n",
       "      <th>Earth sciences</th>\n",
       "      <th>Archeology</th>\n",
       "      <th>Biology</th>\n",
       "      <th>Animal Welfare</th>\n",
       "      <th>Gender studies</th>\n",
       "      <th>Medicine</th>\n",
       "      <th>Information Technology</th>\n",
       "      <th>Art and Architecture</th>\n",
       "      <th>Life sciences</th>\n",
       "      <th>...</th>\n",
       "      <th>Physics and Technology</th>\n",
       "      <th>Development studies</th>\n",
       "      <th>Psychology</th>\n",
       "      <th>Chemistry</th>\n",
       "      <th>Astronomy</th>\n",
       "      <th>Language</th>\n",
       "      <th>Technical Sciences</th>\n",
       "      <th>Mathematics</th>\n",
       "      <th>All_Discipline_count</th>\n",
       "      <th>ENW_Discipline_count</th>\n",
       "    </tr>\n",
       "  </thead>\n",
       "  <tbody>\n",
       "    <tr>\n",
       "      <th>46</th>\n",
       "      <td>47</td>\n",
       "      <td>0.0</td>\n",
       "      <td>0.0</td>\n",
       "      <td>0.0</td>\n",
       "      <td>0.0</td>\n",
       "      <td>0.0</td>\n",
       "      <td>1.0</td>\n",
       "      <td>0.0</td>\n",
       "      <td>0.0</td>\n",
       "      <td>0.0</td>\n",
       "      <td>...</td>\n",
       "      <td>0.0</td>\n",
       "      <td>0.0</td>\n",
       "      <td>0.0</td>\n",
       "      <td>0.0</td>\n",
       "      <td>0.0</td>\n",
       "      <td>0.0</td>\n",
       "      <td>0.0</td>\n",
       "      <td>0.0</td>\n",
       "      <td>1.0</td>\n",
       "      <td>0.0</td>\n",
       "    </tr>\n",
       "  </tbody>\n",
       "</table>\n",
       "<p>1 rows × 23 columns</p>\n",
       "</div>"
      ],
      "text/plain": [
       "    Application number  Earth sciences  Archeology  Biology  Animal Welfare  \\\n",
       "46                  47             0.0         0.0      0.0             0.0   \n",
       "\n",
       "    Gender studies  Medicine  Information Technology  Art and Architecture  \\\n",
       "46             0.0       1.0                     0.0                   0.0   \n",
       "\n",
       "    Life sciences  ...  Physics and Technology  Development studies  \\\n",
       "46            0.0  ...                     0.0                  0.0   \n",
       "\n",
       "    Psychology  Chemistry  Astronomy  Language  Technical Sciences  \\\n",
       "46         0.0        0.0        0.0       0.0                 0.0   \n",
       "\n",
       "    Mathematics  All_Discipline_count  ENW_Discipline_count  \n",
       "46          0.0                   1.0                   0.0  \n",
       "\n",
       "[1 rows x 23 columns]"
      ]
     },
     "execution_count": 133,
     "metadata": {},
     "output_type": "execute_result"
    }
   ],
   "source": [
    "dfA_zonder_ENW_monodisci.head(2)"
   ]
  },
  {
   "cell_type": "markdown",
   "metadata": {},
   "source": [
    "Segregating interdomein multidiscipline proposals (containing ENW disciplines) in apart dataframe"
   ]
  },
  {
   "cell_type": "code",
   "execution_count": 134,
   "metadata": {},
   "outputs": [],
   "source": [
    "dfA_interdom_multidisci=dfA.loc[(dfA.All_Discipline_count>1) & (dfA.All_Discipline_count!=dfA.ENW_Discipline_count) & (dfA.ENW_Discipline_count!=0)]\n",
    "dfG_interdom_multidisci=dfG.loc[(dfG.All_Discipline_count>1) & (dfG.All_Discipline_count!=dfG.ENW_Discipline_count)& (dfG.ENW_Discipline_count!=0)]"
   ]
  },
  {
   "cell_type": "markdown",
   "metadata": {},
   "source": [
    "Segregating intradomein multidiscipline proposals (containing ENW disciplines) in apart dataframe"
   ]
  },
  {
   "cell_type": "code",
   "execution_count": 135,
   "metadata": {},
   "outputs": [],
   "source": [
    "dfA_intradom_multidisci=dfA.loc[(dfA.All_Discipline_count>1) & (dfA.All_Discipline_count==dfA.ENW_Discipline_count)]\n",
    "dfG_intradom_multidisci=dfG.loc[(dfG.All_Discipline_count>1) & (dfG.All_Discipline_count==dfG.ENW_Discipline_count)]"
   ]
  },
  {
   "cell_type": "markdown",
   "metadata": {},
   "source": [
    "Segregating without ENW multidiscipline proposals in apart dataframe"
   ]
  },
  {
   "cell_type": "code",
   "execution_count": 136,
   "metadata": {},
   "outputs": [],
   "source": [
    "dfA_zonder_ENW_multidisci=dfA.loc[(dfA.All_Discipline_count>1) & (dfA.ENW_Discipline_count==0)]\n",
    "dfG_zonder_ENW_multidisci=dfG.loc[(dfG.All_Discipline_count>1) & (dfG.ENW_Discipline_count==0)]"
   ]
  },
  {
   "cell_type": "markdown",
   "metadata": {},
   "source": [
    "## creation of a summary dataframe"
   ]
  },
  {
   "cell_type": "code",
   "execution_count": 137,
   "metadata": {},
   "outputs": [
    {
     "data": {
      "text/html": [
       "<div>\n",
       "<style scoped>\n",
       "    .dataframe tbody tr th:only-of-type {\n",
       "        vertical-align: middle;\n",
       "    }\n",
       "\n",
       "    .dataframe tbody tr th {\n",
       "        vertical-align: top;\n",
       "    }\n",
       "\n",
       "    .dataframe thead th {\n",
       "        text-align: right;\n",
       "    }\n",
       "</style>\n",
       "<table border=\"1\" class=\"dataframe\">\n",
       "  <thead>\n",
       "    <tr style=\"text-align: right;\">\n",
       "      <th></th>\n",
       "      <th>Application character</th>\n",
       "      <th>Submitted</th>\n",
       "      <th>Successful</th>\n",
       "      <th>% Succes</th>\n",
       "    </tr>\n",
       "  </thead>\n",
       "  <tbody>\n",
       "    <tr>\n",
       "      <th>0</th>\n",
       "      <td>ENW monodisci</td>\n",
       "      <td>45</td>\n",
       "      <td>12</td>\n",
       "      <td>26.7</td>\n",
       "    </tr>\n",
       "    <tr>\n",
       "      <th>1</th>\n",
       "      <td>ENW intradomein multidisci</td>\n",
       "      <td>40</td>\n",
       "      <td>7</td>\n",
       "      <td>17.5</td>\n",
       "    </tr>\n",
       "    <tr>\n",
       "      <th>2</th>\n",
       "      <td>ENW interdomein multidisci</td>\n",
       "      <td>6</td>\n",
       "      <td>1</td>\n",
       "      <td>16.7</td>\n",
       "    </tr>\n",
       "    <tr>\n",
       "      <th>3</th>\n",
       "      <td>other monodisci</td>\n",
       "      <td>1</td>\n",
       "      <td>0</td>\n",
       "      <td>0.0</td>\n",
       "    </tr>\n",
       "    <tr>\n",
       "      <th>4</th>\n",
       "      <td>other multidisci</td>\n",
       "      <td>0</td>\n",
       "      <td>0</td>\n",
       "      <td>NaN</td>\n",
       "    </tr>\n",
       "    <tr>\n",
       "      <th>5</th>\n",
       "      <td>Total</td>\n",
       "      <td>92</td>\n",
       "      <td>20</td>\n",
       "      <td>21.7</td>\n",
       "    </tr>\n",
       "  </tbody>\n",
       "</table>\n",
       "</div>"
      ],
      "text/plain": [
       "        Application character  Submitted  Successful  % Succes\n",
       "0               ENW monodisci         45          12      26.7\n",
       "1  ENW intradomein multidisci         40           7      17.5\n",
       "2  ENW interdomein multidisci          6           1      16.7\n",
       "3             other monodisci          1           0       0.0\n",
       "4            other multidisci          0           0       NaN\n",
       "5                       Total         92          20      21.7"
      ]
     },
     "execution_count": 137,
     "metadata": {},
     "output_type": "execute_result"
    }
   ],
   "source": [
    "df_summary = pd.DataFrame(columns = ['Application character', 'Submitted', 'Successful'])\n",
    "df_summary['Application character']=['ENW monodisci', 'ENW intradomein multidisci','ENW interdomein multidisci','other monodisci', 'other multidisci', 'Total']\n",
    "df_summary['Submitted']=[dfA_ENW_monodisci.ENW_Discipline_count.count(), dfA_intradom_multidisci.All_Discipline_count.count(), dfA_interdom_multidisci.All_Discipline_count.count(), dfA_zonder_ENW_monodisci.All_Discipline_count.count(), dfA_zonder_ENW_multidisci.All_Discipline_count.count(), dfA_ENW_monodisci.ENW_Discipline_count.count()+ dfA_intradom_multidisci.All_Discipline_count.count()+ dfA_interdom_multidisci.All_Discipline_count.count()+ dfA_zonder_ENW_monodisci.All_Discipline_count.count()+ dfA_zonder_ENW_multidisci.All_Discipline_count.count()]\n",
    "df_summary['Successful']=[dfG_ENW_monodisci.ENW_Discipline_count.count(), dfG_intradom_multidisci.All_Discipline_count.count(), dfG_interdom_multidisci.All_Discipline_count.count(), dfG_zonder_ENW_monodisci.All_Discipline_count.count(), dfG_zonder_ENW_multidisci.All_Discipline_count.count(), dfG_ENW_monodisci.ENW_Discipline_count.count()+dfG_intradom_multidisci.All_Discipline_count.count()+dfG_interdom_multidisci.All_Discipline_count.count()+ dfG_zonder_ENW_monodisci.All_Discipline_count.count()+ dfG_zonder_ENW_multidisci.All_Discipline_count.count()]\n",
    "\n",
    "#adding a column of % Succes\n",
    "df_summary['% Succes']=df_summary['Successful'].div(df_summary['Submitted'].values, axis=0)\n",
    "df_summary['% Succes']=df_summary['% Succes'].mul(100).round(1)\n",
    "#check the summary dataframe\n",
    "df_summary"
   ]
  },
  {
   "cell_type": "markdown",
   "metadata": {},
   "source": [
    "Dropping the columns unncessary for next steps data processing"
   ]
  },
  {
   "cell_type": "code",
   "execution_count": 138,
   "metadata": {},
   "outputs": [],
   "source": [
    "dfA_clean_multidisci=dfA_multidisci.drop(columns=['Application number','All_Discipline_count', 'ENW_Discipline_count'])\n",
    "dfG_clean_multidisci=dfG_multidisci.drop(columns=['Application number','All_Discipline_count', 'ENW_Discipline_count'])"
   ]
  },
  {
   "cell_type": "code",
   "execution_count": 139,
   "metadata": {},
   "outputs": [],
   "source": [
    "dfA_ENW_monodisci=dfA_ENW_monodisci.drop(columns=['All_Discipline_count', 'ENW_Discipline_count'])\n",
    "dfA_intradom_multidisci=dfA_intradom_multidisci.drop(columns=['All_Discipline_count', 'ENW_Discipline_count'])\n",
    "dfA_interdom_multidisci=dfA_interdom_multidisci.drop(columns=['All_Discipline_count', 'ENW_Discipline_count'])\n",
    "dfG_ENW_monodisci=dfG_ENW_monodisci.drop(columns=['All_Discipline_count', 'ENW_Discipline_count'])\n",
    "dfG_intradom_multidisci=dfG_intradom_multidisci.drop(columns=['All_Discipline_count', 'ENW_Discipline_count'])\n",
    "dfG_interdom_multidisci=dfG_interdom_multidisci.drop(columns=['All_Discipline_count', 'ENW_Discipline_count'])"
   ]
  },
  {
   "cell_type": "markdown",
   "metadata": {},
   "source": [
    "## Creation of co-occurance matrix for submitted proposals"
   ]
  },
  {
   "cell_type": "code",
   "execution_count": 140,
   "metadata": {},
   "outputs": [
    {
     "name": "stderr",
     "output_type": "stream",
     "text": [
      "/home/gebruiker/anaconda3/lib/python3.9/site-packages/scipy/sparse/_index.py:125: SparseEfficiencyWarning: Changing the sparsity structure of a csc_matrix is expensive. lil_matrix is more efficient.\n",
      "  self._set_arrayXarray(i, j, x)\n"
     ]
    }
   ],
   "source": [
    "cols = dfA_clean_multidisci.columns\n",
    "XA = sp.csr_matrix(dfA_clean_multidisci.astype(int).values)\n",
    "XcA = XA.T * XA  # multiply sparse matrix\n",
    "XcA.setdiag(0)  # reset diagonal\n",
    "\n",
    "# create dataframe from co-occurence matrix in dense format\n",
    "dfA_co_occ_mtx = pd.DataFrame(XcA.todense(), index=cols, columns=cols)"
   ]
  },
  {
   "cell_type": "markdown",
   "metadata": {},
   "source": [
    "## Creation of co-occurance matrix for successful proposals"
   ]
  },
  {
   "cell_type": "code",
   "execution_count": 141,
   "metadata": {},
   "outputs": [],
   "source": [
    "cols = dfG_clean_multidisci.columns\n",
    "XG = sp.csr_matrix(dfG_clean_multidisci.astype(int).values)\n",
    "XcG = XG.T * XG  # multiply sparse matrix\n",
    "XcG.setdiag(0)  # reset diagonal\n",
    "\n",
    "# create dataframe from co-occurence matrix in dense format\n",
    "dfG_co_occ_mtx = pd.DataFrame(XcG.todense(), index=cols, columns=cols)"
   ]
  },
  {
   "cell_type": "markdown",
   "metadata": {},
   "source": [
    "## create co occurance matrices in a format for VOSviewer"
   ]
  },
  {
   "cell_type": "markdown",
   "metadata": {},
   "source": [
    "for submitted proposals"
   ]
  },
  {
   "cell_type": "code",
   "execution_count": 142,
   "metadata": {},
   "outputs": [],
   "source": [
    "dfA_netwerk = dfA_co_occ_mtx.stack().reset_index()\n",
    "dfA_netwerk.columns = ['source', 'target', 'weight']"
   ]
  },
  {
   "cell_type": "markdown",
   "metadata": {},
   "source": [
    "for honored proposals"
   ]
  },
  {
   "cell_type": "code",
   "execution_count": 143,
   "metadata": {},
   "outputs": [],
   "source": [
    "dfG_netwerk = dfG_co_occ_mtx.stack().reset_index()\n",
    "dfG_netwerk.columns = ['source', 'target', 'weight']"
   ]
  },
  {
   "cell_type": "code",
   "execution_count": 144,
   "metadata": {},
   "outputs": [],
   "source": [
    "#Example of selecting a specific cell of the data frame.  \n",
    "#dfA_ENW_monodisci.iloc[0,10]"
   ]
  },
  {
   "cell_type": "code",
   "execution_count": 145,
   "metadata": {},
   "outputs": [],
   "source": [
    "#Shape of dataframe for ENW monodiscipline proposals\n",
    "#dfA_ENW_monodisci.shape"
   ]
  },
  {
   "cell_type": "code",
   "execution_count": 146,
   "metadata": {},
   "outputs": [
    {
     "data": {
      "text/html": [
       "<div>\n",
       "<style scoped>\n",
       "    .dataframe tbody tr th:only-of-type {\n",
       "        vertical-align: middle;\n",
       "    }\n",
       "\n",
       "    .dataframe tbody tr th {\n",
       "        vertical-align: top;\n",
       "    }\n",
       "\n",
       "    .dataframe thead th {\n",
       "        text-align: right;\n",
       "    }\n",
       "</style>\n",
       "<table border=\"1\" class=\"dataframe\">\n",
       "  <thead>\n",
       "    <tr style=\"text-align: right;\">\n",
       "      <th></th>\n",
       "      <th>Application number</th>\n",
       "      <th>Earth sciences</th>\n",
       "      <th>Archeology</th>\n",
       "      <th>Biology</th>\n",
       "      <th>Animal Welfare</th>\n",
       "      <th>Gender studies</th>\n",
       "      <th>Medicine</th>\n",
       "      <th>Information Technology</th>\n",
       "      <th>Art and Architecture</th>\n",
       "      <th>Life sciences</th>\n",
       "      <th>...</th>\n",
       "      <th>Enviormental Sciences</th>\n",
       "      <th>Physics</th>\n",
       "      <th>Physics and Technology</th>\n",
       "      <th>Development studies</th>\n",
       "      <th>Psychology</th>\n",
       "      <th>Chemistry</th>\n",
       "      <th>Astronomy</th>\n",
       "      <th>Language</th>\n",
       "      <th>Technical Sciences</th>\n",
       "      <th>Mathematics</th>\n",
       "    </tr>\n",
       "  </thead>\n",
       "  <tbody>\n",
       "    <tr>\n",
       "      <th>0</th>\n",
       "      <td>1</td>\n",
       "      <td>0.0</td>\n",
       "      <td>0.0</td>\n",
       "      <td>1.0</td>\n",
       "      <td>0.0</td>\n",
       "      <td>0.0</td>\n",
       "      <td>0.0</td>\n",
       "      <td>0.0</td>\n",
       "      <td>0.0</td>\n",
       "      <td>0.0</td>\n",
       "      <td>...</td>\n",
       "      <td>0.0</td>\n",
       "      <td>0.0</td>\n",
       "      <td>0.0</td>\n",
       "      <td>0.0</td>\n",
       "      <td>0.0</td>\n",
       "      <td>0.0</td>\n",
       "      <td>0.0</td>\n",
       "      <td>0.0</td>\n",
       "      <td>0.0</td>\n",
       "      <td>0.0</td>\n",
       "    </tr>\n",
       "    <tr>\n",
       "      <th>2</th>\n",
       "      <td>3</td>\n",
       "      <td>0.0</td>\n",
       "      <td>0.0</td>\n",
       "      <td>0.0</td>\n",
       "      <td>0.0</td>\n",
       "      <td>0.0</td>\n",
       "      <td>0.0</td>\n",
       "      <td>0.0</td>\n",
       "      <td>0.0</td>\n",
       "      <td>1.0</td>\n",
       "      <td>...</td>\n",
       "      <td>0.0</td>\n",
       "      <td>0.0</td>\n",
       "      <td>0.0</td>\n",
       "      <td>0.0</td>\n",
       "      <td>0.0</td>\n",
       "      <td>0.0</td>\n",
       "      <td>0.0</td>\n",
       "      <td>0.0</td>\n",
       "      <td>0.0</td>\n",
       "      <td>0.0</td>\n",
       "    </tr>\n",
       "  </tbody>\n",
       "</table>\n",
       "<p>2 rows × 21 columns</p>\n",
       "</div>"
      ],
      "text/plain": [
       "   Application number  Earth sciences  Archeology  Biology  Animal Welfare  \\\n",
       "0                   1             0.0         0.0      1.0             0.0   \n",
       "2                   3             0.0         0.0      0.0             0.0   \n",
       "\n",
       "   Gender studies  Medicine  Information Technology  Art and Architecture  \\\n",
       "0             0.0       0.0                     0.0                   0.0   \n",
       "2             0.0       0.0                     0.0                   0.0   \n",
       "\n",
       "   Life sciences  ...  Enviormental Sciences  Physics  Physics and Technology  \\\n",
       "0            0.0  ...                    0.0      0.0                     0.0   \n",
       "2            1.0  ...                    0.0      0.0                     0.0   \n",
       "\n",
       "   Development studies  Psychology  Chemistry  Astronomy  Language  \\\n",
       "0                  0.0         0.0        0.0        0.0       0.0   \n",
       "2                  0.0         0.0        0.0        0.0       0.0   \n",
       "\n",
       "   Technical Sciences  Mathematics  \n",
       "0                 0.0          0.0  \n",
       "2                 0.0          0.0  \n",
       "\n",
       "[2 rows x 21 columns]"
      ]
     },
     "execution_count": 146,
     "metadata": {},
     "output_type": "execute_result"
    }
   ],
   "source": [
    "dfA_ENW_monodisci.head(2)"
   ]
  },
  {
   "cell_type": "markdown",
   "metadata": {},
   "source": [
    "## Finding discipline from each monodiscipline proposal"
   ]
  },
  {
   "cell_type": "code",
   "execution_count": 147,
   "metadata": {},
   "outputs": [
    {
     "data": {
      "text/html": [
       "<div>\n",
       "<style scoped>\n",
       "    .dataframe tbody tr th:only-of-type {\n",
       "        vertical-align: middle;\n",
       "    }\n",
       "\n",
       "    .dataframe tbody tr th {\n",
       "        vertical-align: top;\n",
       "    }\n",
       "\n",
       "    .dataframe thead th {\n",
       "        text-align: right;\n",
       "    }\n",
       "</style>\n",
       "<table border=\"1\" class=\"dataframe\">\n",
       "  <thead>\n",
       "    <tr style=\"text-align: right;\">\n",
       "      <th></th>\n",
       "      <th>Application number</th>\n",
       "      <th>Discipline_list</th>\n",
       "      <th>All_Discipline_count</th>\n",
       "    </tr>\n",
       "  </thead>\n",
       "  <tbody>\n",
       "    <tr>\n",
       "      <th>0</th>\n",
       "      <td>1</td>\n",
       "      <td>Biology</td>\n",
       "      <td>1</td>\n",
       "    </tr>\n",
       "    <tr>\n",
       "      <th>1</th>\n",
       "      <td>3</td>\n",
       "      <td>Life sciences</td>\n",
       "      <td>1</td>\n",
       "    </tr>\n",
       "  </tbody>\n",
       "</table>\n",
       "</div>"
      ],
      "text/plain": [
       "   Application number Discipline_list  All_Discipline_count\n",
       "0                   1         Biology                     1\n",
       "1                   3   Life sciences                     1"
      ]
     },
     "execution_count": 147,
     "metadata": {},
     "output_type": "execute_result"
    }
   ],
   "source": [
    "dfA_ENW_monodisci = dfA_ENW_monodisci.set_index('Application number')\n",
    "\n",
    "dfA_ENW_mono_disciplines = (\n",
    "    dfA_ENW_monodisci[dfA_ENW_monodisci==1]\n",
    "    .stack()\n",
    "    .reset_index()\n",
    "    .drop(0, axis=1)\n",
    "    .rename(columns={'level_1': 'Discipline_list'})\n",
    "    .groupby('Application number', as_index=False)\n",
    "    .agg(Discipline_list=('Discipline_list', lambda x: ', '.join(x)), All_Discipline_count=('Discipline_list', 'count'))\n",
    ")\n",
    "\n",
    "dfA_ENW_mono_disciplines.head(2)"
   ]
  },
  {
   "cell_type": "markdown",
   "metadata": {},
   "source": [
    "## Finding disciplines from each intradomein multidiscipline submitted proposal"
   ]
  },
  {
   "cell_type": "code",
   "execution_count": 150,
   "metadata": {},
   "outputs": [
    {
     "data": {
      "text/html": [
       "<div>\n",
       "<style scoped>\n",
       "    .dataframe tbody tr th:only-of-type {\n",
       "        vertical-align: middle;\n",
       "    }\n",
       "\n",
       "    .dataframe tbody tr th {\n",
       "        vertical-align: top;\n",
       "    }\n",
       "\n",
       "    .dataframe thead th {\n",
       "        text-align: right;\n",
       "    }\n",
       "</style>\n",
       "<table border=\"1\" class=\"dataframe\">\n",
       "  <thead>\n",
       "    <tr style=\"text-align: right;\">\n",
       "      <th></th>\n",
       "      <th>Application number</th>\n",
       "      <th>Discipline_list</th>\n",
       "      <th>All_Discipline_count</th>\n",
       "    </tr>\n",
       "  </thead>\n",
       "  <tbody>\n",
       "    <tr>\n",
       "      <th>0</th>\n",
       "      <td>2</td>\n",
       "      <td>Biology, Life sciences, Chemistry</td>\n",
       "      <td>3</td>\n",
       "    </tr>\n",
       "    <tr>\n",
       "      <th>1</th>\n",
       "      <td>4</td>\n",
       "      <td>Physics, Chemistry</td>\n",
       "      <td>2</td>\n",
       "    </tr>\n",
       "  </tbody>\n",
       "</table>\n",
       "</div>"
      ],
      "text/plain": [
       "   Application number                    Discipline_list  All_Discipline_count\n",
       "0                   2  Biology, Life sciences, Chemistry                     3\n",
       "1                   4                 Physics, Chemistry                     2"
      ]
     },
     "execution_count": 150,
     "metadata": {},
     "output_type": "execute_result"
    }
   ],
   "source": [
    "dfA_intradom_multidisci = dfA_intradom_multidisci.set_index('Application number')\n",
    "\n",
    "dfA_multi_intradom_disciplines = (\n",
    "    dfA_intradom_multidisci[dfA_intradom_multidisci==1]\n",
    "    .stack()\n",
    "    .reset_index()\n",
    "    .drop(0, axis=1)\n",
    "    .rename(columns={'level_1': 'Discipline_list'})\n",
    "    .groupby('Application number', as_index=False)\n",
    "    .agg(Discipline_list=('Discipline_list', lambda x: ', '.join(x)), All_Discipline_count=('Discipline_list', 'count'))\n",
    ")\n",
    "\n",
    "dfA_multi_intradom_disciplines.head(2)"
   ]
  },
  {
   "cell_type": "markdown",
   "metadata": {},
   "source": [
    "## Finding disciplines from each interdomein multidiscipline submitted proposal"
   ]
  },
  {
   "cell_type": "code",
   "execution_count": 153,
   "metadata": {},
   "outputs": [
    {
     "data": {
      "text/html": [
       "<div>\n",
       "<style scoped>\n",
       "    .dataframe tbody tr th:only-of-type {\n",
       "        vertical-align: middle;\n",
       "    }\n",
       "\n",
       "    .dataframe tbody tr th {\n",
       "        vertical-align: top;\n",
       "    }\n",
       "\n",
       "    .dataframe thead th {\n",
       "        text-align: right;\n",
       "    }\n",
       "</style>\n",
       "<table border=\"1\" class=\"dataframe\">\n",
       "  <thead>\n",
       "    <tr style=\"text-align: right;\">\n",
       "      <th></th>\n",
       "      <th>Application number</th>\n",
       "      <th>Discipline_list</th>\n",
       "      <th>All_Discipline_count</th>\n",
       "    </tr>\n",
       "  </thead>\n",
       "  <tbody>\n",
       "    <tr>\n",
       "      <th>0</th>\n",
       "      <td>5</td>\n",
       "      <td>Medicine, Life sciences</td>\n",
       "      <td>2</td>\n",
       "    </tr>\n",
       "    <tr>\n",
       "      <th>1</th>\n",
       "      <td>14</td>\n",
       "      <td>Biology, Information Technology, Technical Sci...</td>\n",
       "      <td>3</td>\n",
       "    </tr>\n",
       "  </tbody>\n",
       "</table>\n",
       "</div>"
      ],
      "text/plain": [
       "   Application number                                    Discipline_list  \\\n",
       "0                   5                            Medicine, Life sciences   \n",
       "1                  14  Biology, Information Technology, Technical Sci...   \n",
       "\n",
       "   All_Discipline_count  \n",
       "0                     2  \n",
       "1                     3  "
      ]
     },
     "execution_count": 153,
     "metadata": {},
     "output_type": "execute_result"
    }
   ],
   "source": [
    "dfA_interdom_multidisci = dfA_interdom_multidisci.set_index('Application number')\n",
    "\n",
    "dfA_multi_interdom_disciplines = (\n",
    "    dfA_interdom_multidisci[dfA_interdom_multidisci==1]\n",
    "    .stack()\n",
    "    .reset_index()\n",
    "    .drop(0, axis=1)\n",
    "    .rename(columns={'level_1': 'Discipline_list'})\n",
    "    .groupby('Application number', as_index=False)\n",
    "    .agg(Discipline_list=('Discipline_list', lambda x: ', '.join(x)), All_Discipline_count=('Discipline_list', 'count'))\n",
    ")\n",
    "\n",
    "dfA_multi_interdom_disciplines.head(2)"
   ]
  },
  {
   "cell_type": "markdown",
   "metadata": {},
   "source": [
    "## Finding disciplines from each monodiscipline Successful proposal"
   ]
  },
  {
   "cell_type": "code",
   "execution_count": 157,
   "metadata": {},
   "outputs": [
    {
     "data": {
      "text/html": [
       "<div>\n",
       "<style scoped>\n",
       "    .dataframe tbody tr th:only-of-type {\n",
       "        vertical-align: middle;\n",
       "    }\n",
       "\n",
       "    .dataframe tbody tr th {\n",
       "        vertical-align: top;\n",
       "    }\n",
       "\n",
       "    .dataframe thead th {\n",
       "        text-align: right;\n",
       "    }\n",
       "</style>\n",
       "<table border=\"1\" class=\"dataframe\">\n",
       "  <thead>\n",
       "    <tr style=\"text-align: right;\">\n",
       "      <th></th>\n",
       "      <th>Application number</th>\n",
       "      <th>Discipline_list</th>\n",
       "      <th>All_Discipline_count</th>\n",
       "    </tr>\n",
       "  </thead>\n",
       "  <tbody>\n",
       "    <tr>\n",
       "      <th>0</th>\n",
       "      <td>15</td>\n",
       "      <td>Mathematics</td>\n",
       "      <td>1</td>\n",
       "    </tr>\n",
       "    <tr>\n",
       "      <th>1</th>\n",
       "      <td>17</td>\n",
       "      <td>Life sciences</td>\n",
       "      <td>1</td>\n",
       "    </tr>\n",
       "  </tbody>\n",
       "</table>\n",
       "</div>"
      ],
      "text/plain": [
       "   Application number Discipline_list  All_Discipline_count\n",
       "0                  15     Mathematics                     1\n",
       "1                  17   Life sciences                     1"
      ]
     },
     "execution_count": 157,
     "metadata": {},
     "output_type": "execute_result"
    }
   ],
   "source": [
    "dfG_ENW_monodisci = dfG_ENW_monodisci.set_index('Application number')\n",
    "\n",
    "dfG_ENW_mono_disciplines = (\n",
    "    dfG_ENW_monodisci[dfG_ENW_monodisci==1]\n",
    "    .stack()\n",
    "    .reset_index()\n",
    "    .drop(0, axis=1)\n",
    "    .rename(columns={'level_1': 'Discipline_list'})\n",
    "    .groupby('Application number', as_index=False)\n",
    "    .agg(Discipline_list=('Discipline_list', lambda x: ', '.join(x)), All_Discipline_count=('Discipline_list', 'count'))\n",
    ")\n",
    "\n",
    "dfG_ENW_mono_disciplines.head(2)"
   ]
  },
  {
   "cell_type": "markdown",
   "metadata": {},
   "source": [
    "## Finding disciplines from each intradomein multidiscipline proposal which were successful getting grant"
   ]
  },
  {
   "cell_type": "code",
   "execution_count": 161,
   "metadata": {},
   "outputs": [
    {
     "data": {
      "text/html": [
       "<div>\n",
       "<style scoped>\n",
       "    .dataframe tbody tr th:only-of-type {\n",
       "        vertical-align: middle;\n",
       "    }\n",
       "\n",
       "    .dataframe tbody tr th {\n",
       "        vertical-align: top;\n",
       "    }\n",
       "\n",
       "    .dataframe thead th {\n",
       "        text-align: right;\n",
       "    }\n",
       "</style>\n",
       "<table border=\"1\" class=\"dataframe\">\n",
       "  <thead>\n",
       "    <tr style=\"text-align: right;\">\n",
       "      <th></th>\n",
       "      <th>Application number</th>\n",
       "      <th>Discipline_list</th>\n",
       "      <th>All_Discipline_count</th>\n",
       "    </tr>\n",
       "  </thead>\n",
       "  <tbody>\n",
       "    <tr>\n",
       "      <th>0</th>\n",
       "      <td>4</td>\n",
       "      <td>Physics, Chemistry</td>\n",
       "      <td>2</td>\n",
       "    </tr>\n",
       "    <tr>\n",
       "      <th>1</th>\n",
       "      <td>12</td>\n",
       "      <td>Life sciences, Physics</td>\n",
       "      <td>2</td>\n",
       "    </tr>\n",
       "  </tbody>\n",
       "</table>\n",
       "</div>"
      ],
      "text/plain": [
       "   Application number         Discipline_list  All_Discipline_count\n",
       "0                   4      Physics, Chemistry                     2\n",
       "1                  12  Life sciences, Physics                     2"
      ]
     },
     "execution_count": 161,
     "metadata": {},
     "output_type": "execute_result"
    }
   ],
   "source": [
    "dfG_intradom_multidisci = dfG_intradom_multidisci.set_index('Application number')\n",
    "\n",
    "dfG_multi_intradom_disciplines = (\n",
    "    dfG_intradom_multidisci[dfG_intradom_multidisci==1]\n",
    "    .stack()\n",
    "    .reset_index()\n",
    "    .drop(0, axis=1)\n",
    "    .rename(columns={'level_1': 'Discipline_list'})\n",
    "    .groupby('Application number', as_index=False)\n",
    "    .agg(Discipline_list=('Discipline_list', lambda x: ', '.join(x)), All_Discipline_count=('Discipline_list', 'count'))\n",
    ")\n",
    "\n",
    "dfG_multi_intradom_disciplines.head(2)"
   ]
  },
  {
   "cell_type": "markdown",
   "metadata": {},
   "source": [
    "## Finding disciplines from each multi discipline interdomein successful proposal contains"
   ]
  },
  {
   "cell_type": "code",
   "execution_count": 165,
   "metadata": {},
   "outputs": [
    {
     "data": {
      "text/html": [
       "<div>\n",
       "<style scoped>\n",
       "    .dataframe tbody tr th:only-of-type {\n",
       "        vertical-align: middle;\n",
       "    }\n",
       "\n",
       "    .dataframe tbody tr th {\n",
       "        vertical-align: top;\n",
       "    }\n",
       "\n",
       "    .dataframe thead th {\n",
       "        text-align: right;\n",
       "    }\n",
       "</style>\n",
       "<table border=\"1\" class=\"dataframe\">\n",
       "  <thead>\n",
       "    <tr style=\"text-align: right;\">\n",
       "      <th></th>\n",
       "      <th>Application number</th>\n",
       "      <th>Discipline_list</th>\n",
       "      <th>All_Discipline_count</th>\n",
       "    </tr>\n",
       "  </thead>\n",
       "  <tbody>\n",
       "    <tr>\n",
       "      <th>0</th>\n",
       "      <td>79</td>\n",
       "      <td>Biology, Medicine, Life sciences, Mathematics</td>\n",
       "      <td>4</td>\n",
       "    </tr>\n",
       "  </tbody>\n",
       "</table>\n",
       "</div>"
      ],
      "text/plain": [
       "   Application number                                Discipline_list  \\\n",
       "0                  79  Biology, Medicine, Life sciences, Mathematics   \n",
       "\n",
       "   All_Discipline_count  \n",
       "0                     4  "
      ]
     },
     "execution_count": 165,
     "metadata": {},
     "output_type": "execute_result"
    }
   ],
   "source": [
    "dfG_interdom_multidisci = dfG_interdom_multidisci.set_index('Application number')\n",
    "\n",
    "dfG_multi_interdom_disciplines = (\n",
    "    dfG_interdom_multidisci[dfG_interdom_multidisci==1]\n",
    "    .stack()\n",
    "    .reset_index()\n",
    "    .drop(0, axis=1)\n",
    "    .rename(columns={'level_1': 'Discipline_list'})\n",
    "    .groupby('Application number', as_index=False)\n",
    "    .agg(Discipline_list=('Discipline_list', lambda x: ', '.join(x)), All_Discipline_count=('Discipline_list', 'count'))\n",
    ")\n",
    "\n",
    "dfG_multi_interdom_disciplines.head(2)"
   ]
  },
  {
   "cell_type": "markdown",
   "metadata": {},
   "source": [
    "## monodiscipline proposals"
   ]
  },
  {
   "cell_type": "markdown",
   "metadata": {},
   "source": [
    "reindexing monodiscipline dataframes with Disciplines and number of counts as columns"
   ]
  },
  {
   "cell_type": "code",
   "execution_count": 168,
   "metadata": {},
   "outputs": [],
   "source": [
    "dfA_mono_reindex=dfA_ENW_mono_disciplines.Discipline_list.value_counts().reset_index().rename(columns={'index': 'Disciplines', 0: 'count'})\n",
    "dfG_mono_reindex=dfG_ENW_mono_disciplines.Discipline_list.value_counts().reset_index().rename(columns={'index': 'Disciplines', 0: 'count'})"
   ]
  },
  {
   "cell_type": "markdown",
   "metadata": {},
   "source": [
    "Creating summary dataframe of monodiscipline proposals"
   ]
  },
  {
   "cell_type": "code",
   "execution_count": 169,
   "metadata": {},
   "outputs": [],
   "source": [
    "#Merging the submitted and the successful monodiscipline proposals dataframes\n",
    "df_summary_monodisci=pd.merge(dfA_mono_reindex, dfG_mono_reindex, on=\"Disciplines\", how=\"left\")\n",
    "# Rename the existing DataFrame (rather than creating a copy) \n",
    "df_summary_monodisci.rename(columns={'Discipline_list_x': 'Applied', 'Discipline_list_y': 'Successful'}, inplace=True)\n",
    "\n",
    "#adding a column of % Succes\n",
    "df_summary_monodisci['% Succes']=df_summary_monodisci['Successful'].div(df_summary_monodisci['Applied'].values, axis=0)\n",
    "df_summary_monodisci['% Succes']=df_summary_monodisci['% Succes'].mul(100).round(1)\n",
    "df_summary_monodisci=df_summary_monodisci.fillna(0)"
   ]
  },
  {
   "cell_type": "markdown",
   "metadata": {},
   "source": [
    "## multidiscipline intradomein proposals"
   ]
  },
  {
   "cell_type": "markdown",
   "metadata": {},
   "source": [
    "reindexing multidiscipline intradomein dataframes with Disciplines and number of counts as columns"
   ]
  },
  {
   "cell_type": "code",
   "execution_count": 170,
   "metadata": {},
   "outputs": [],
   "source": [
    "dfA_intradom_multidisci_reindex=dfA_multi_intradom_disciplines.Discipline_list.value_counts().reset_index().rename(columns={'index': 'Disciplines', 0: 'count'})\n",
    "dfG_intradom_multidisci_reindex=dfG_multi_intradom_disciplines.Discipline_list.value_counts().reset_index().rename(columns={'index': 'Disciplines', 0: 'count'})"
   ]
  },
  {
   "cell_type": "markdown",
   "metadata": {},
   "source": [
    "Creating summary dataframe of multidiscipline intradomein proposals"
   ]
  },
  {
   "cell_type": "code",
   "execution_count": 171,
   "metadata": {},
   "outputs": [],
   "source": [
    "#Merging the submitted and the successful multidiscipline intradomein proposals dataframes\n",
    "df_summary_intradom_multidisci=pd.merge(dfA_intradom_multidisci_reindex, dfG_intradom_multidisci_reindex, on=\"Disciplines\", how=\"left\")\n",
    "# Rename the existing DataFrame (rather than creating a copy) \n",
    "df_summary_intradom_multidisci.rename(columns={'Discipline_list_x': 'Applied', 'Discipline_list_y': 'Successful'}, inplace=True)\n",
    "\n",
    "#adding a column of % Succes\n",
    "df_summary_intradom_multidisci['% Succes']=df_summary_intradom_multidisci['Successful'].div(df_summary_intradom_multidisci['Applied'].values, axis=0)\n",
    "df_summary_intradom_multidisci['% Succes']=df_summary_intradom_multidisci['% Succes'].mul(100).round(1)\n",
    "df_summary_intradom_multidisci=df_summary_intradom_multidisci.fillna(0)"
   ]
  },
  {
   "cell_type": "markdown",
   "metadata": {},
   "source": [
    "## multidiscipline  Interdomein  proposals:"
   ]
  },
  {
   "cell_type": "markdown",
   "metadata": {},
   "source": [
    "reindexing multidiscipline interdomein dataframes with Disciplines and number of counts as columns"
   ]
  },
  {
   "cell_type": "code",
   "execution_count": 172,
   "metadata": {},
   "outputs": [],
   "source": [
    "dfA_interdom_multidisci_reindex=dfA_multi_interdom_disciplines.Discipline_list.value_counts().reset_index().rename(columns={'index': 'Disciplines', 0: 'count'})\n",
    "dfG_interdom_multidisci_reindex=dfG_multi_interdom_disciplines.Discipline_list.value_counts().reset_index().rename(columns={'index': 'Disciplines', 0: 'count'})"
   ]
  },
  {
   "cell_type": "markdown",
   "metadata": {},
   "source": [
    "Creating summary dataframe of multidiscipline interdomein proposals"
   ]
  },
  {
   "cell_type": "code",
   "execution_count": 173,
   "metadata": {
    "scrolled": false
   },
   "outputs": [],
   "source": [
    "#Merging the submitted and the successful multidiscipline interdomein proposals dataframes\n",
    "df_summary_interdom_multidisci=pd.merge(dfA_interdom_multidisci_reindex, dfG_interdom_multidisci_reindex, on=\"Disciplines\", how=\"left\")\n",
    "# Rename the existing DataFrame (rather than creating a copy) \n",
    "df_summary_interdom_multidisci.rename(columns={'Discipline_list_x': 'Applied', 'Discipline_list_y': 'Successful'}, inplace=True)\n",
    "\n",
    "#adding a column of % Succes\n",
    "df_summary_interdom_multidisci['% Succes']=df_summary_interdom_multidisci['Successful'].div(df_summary_interdom_multidisci['Applied'].values, axis=0)\n",
    "df_summary_interdom_multidisci['% Succes']=df_summary_interdom_multidisci['% Succes'].mul(100).round(1)\n",
    "df_summary_interdom_multidisci=df_summary_interdom_multidisci.fillna(0)"
   ]
  },
  {
   "cell_type": "markdown",
   "metadata": {},
   "source": [
    "# Output with Openpyxl"
   ]
  },
  {
   "cell_type": "markdown",
   "metadata": {},
   "source": [
    "The openpyxl.utils.dataframe.dataframe_to_rows() function provides a simple way to work with Pandas Dataframes"
   ]
  },
  {
   "cell_type": "code",
   "execution_count": 174,
   "metadata": {},
   "outputs": [],
   "source": [
    "from openpyxl.utils.dataframe import dataframe_to_rows\n",
    "from openpyxl import Workbook\n",
    "from openpyxl.chart import BarChart, Series, Reference"
   ]
  },
  {
   "cell_type": "code",
   "execution_count": 175,
   "metadata": {},
   "outputs": [],
   "source": [
    "wb = Workbook()\n",
    "ws = wb.active\n",
    "#ws = wb.create_sheet(\"Samenvatting\", 0) \n",
    "ws.title='Summary'\n",
    "\n",
    "for r in dataframe_to_rows(df_summary, index=False, header=True):\n",
    "    ws.append(r)\n",
    "\n",
    "for cell in ws['A'] + ws[1]:\n",
    "    cell.style = 'Pandas'\n",
    "\n",
    "chart0 = BarChart()\n",
    "chart0.type = \"col\"\n",
    "chart0.style = 10\n",
    "chart0.title = \"Summary\"\n",
    "chart0.y_axis.title = 'Proposals'\n",
    "chart0.x_axis.title = ''\n",
    "\n",
    "data = Reference(ws, min_col=2, min_row=1, max_row=6, max_col=3)\n",
    "cats = Reference(ws, min_col=1, min_row=2, max_row=6)\n",
    "chart0.add_data(data, titles_from_data=True)\n",
    "chart0.set_categories(cats)\n",
    "chart0.shape = 20\n",
    "ws.add_chart(chart0, \"F1\")"
   ]
  },
  {
   "cell_type": "markdown",
   "metadata": {},
   "source": [
    "writing summary of analysis for monodisci, intradom_multidisci, interdom_multidisci dataframes in subsequent excel sheets"
   ]
  },
  {
   "cell_type": "code",
   "execution_count": 176,
   "metadata": {},
   "outputs": [],
   "source": [
    "ws1 = wb.create_sheet(\"Monodiscipline\", 1) \n",
    "for r in dataframe_to_rows(df_summary_monodisci, index=False, header=True):\n",
    "    ws1.append(r)\n",
    "\n",
    "chart1 = BarChart()\n",
    "chart1.type = \"col\"\n",
    "chart1.style = 10\n",
    "chart1.title = \"Monodiscipline Character\"\n",
    "chart1.y_axis.title = 'Proposals'\n",
    "chart1.x_axis.title = ''\n",
    "\n",
    "data = Reference(ws1, min_col=2, min_row=1, max_row=(len(df_summary_monodisci.index)+1), max_col=3)\n",
    "cats = Reference(ws1, min_col=1, min_row=2, max_row=(len(df_summary_monodisci.index)+1))\n",
    "chart1.add_data(data, titles_from_data=True)\n",
    "chart1.set_categories(cats)\n",
    "chart1.shape = 20\n",
    "ws1.add_chart(chart1, \"F1\")\n",
    "    \n",
    "ws2 = wb.create_sheet(\"Intradomein multidisciplinaire\", 2)\n",
    "for r in dataframe_to_rows(df_summary_intradom_multidisci, index=False, header=True):\n",
    "    ws2.append(r)\n",
    "\n",
    "chart2 = BarChart()\n",
    "chart2.type = \"col\"\n",
    "chart2.style = 10\n",
    "chart2.title = \"Intradomein multidisciplinaire Character\"\n",
    "chart2.y_axis.title = 'Proposals'\n",
    "chart2.x_axis.title = ''\n",
    "\n",
    "data = Reference(ws2, min_col=2, min_row=1, max_row=(len(df_summary_intradom_multidisci.index)+1), max_col=3)\n",
    "cats = Reference(ws2, min_col=1, min_row=2, max_row=(len(df_summary_intradom_multidisci.index)+1))\n",
    "chart2.add_data(data, titles_from_data=True)\n",
    "chart2.set_categories(cats)\n",
    "chart2.shape = 40\n",
    "ws2.add_chart(chart2, \"F1\")\n",
    "\n",
    "ws3 = wb.create_sheet(\"Interdomein multidisciplinaire\", 3)\n",
    "for r in dataframe_to_rows(df_summary_interdom_multidisci, index=False, header=True):\n",
    "    ws3.append(r)\n",
    "    \n",
    "chart3 = BarChart()\n",
    "chart3.type = \"col\"\n",
    "chart3.style = 10\n",
    "chart3.title = \"Interdomein multidisciplinaire Karakter\"\n",
    "chart3.y_axis.title = 'Proposals'\n",
    "chart3.x_axis.title = ''\n",
    "\n",
    "data = Reference(ws3, min_col=2, min_row=1, max_row=(len(df_summary_interdom_multidisci.index)+1), max_col=3)\n",
    "cats = Reference(ws3, min_col=1, min_row=2, max_row=(len(df_summary_interdom_multidisci.index)+1))\n",
    "chart3.add_data(data, titles_from_data=True)\n",
    "chart3.set_categories(cats)\n",
    "chart3.shape = 80\n",
    "ws3.add_chart(chart3, \"F1\")"
   ]
  },
  {
   "cell_type": "markdown",
   "metadata": {},
   "source": [
    "Writing a co-occurance matrix and file for VOS viewer for submitted proposals"
   ]
  },
  {
   "cell_type": "code",
   "execution_count": 177,
   "metadata": {},
   "outputs": [],
   "source": [
    "ws4=wb.create_sheet(\"AP Co occurance matrix\", 4)\n",
    "for r in dataframe_to_rows(dfA_co_occ_mtx, index=True, header=True):\n",
    "    ws4.append(r)\n",
    "\n",
    "ws5=wb.create_sheet(\"AP Network file VOS viewer\", 5)\n",
    "for r in dataframe_to_rows(dfA_netwerk, index=False, header=True):\n",
    "    ws5.append(r)"
   ]
  },
  {
   "cell_type": "markdown",
   "metadata": {},
   "source": [
    "Writing a co-occurance matrix and file for VOS viewer for Successful proposals"
   ]
  },
  {
   "cell_type": "code",
   "execution_count": 178,
   "metadata": {},
   "outputs": [],
   "source": [
    "ws6=wb.create_sheet(\"SUC Co occurance matrix\", 6)\n",
    "for r in dataframe_to_rows(dfG_co_occ_mtx, index=True, header=True):\n",
    "    ws6.append(r)\n",
    "\n",
    "ws7=wb.create_sheet(\"SUC Network file VOS viewer\", 7)\n",
    "for r in dataframe_to_rows(dfG_netwerk, index=False, header=True):\n",
    "    ws7.append(r)"
   ]
  },
  {
   "cell_type": "markdown",
   "metadata": {},
   "source": [
    "saving the excel workbook"
   ]
  },
  {
   "cell_type": "code",
   "execution_count": 179,
   "metadata": {},
   "outputs": [
    {
     "name": "stdout",
     "output_type": "stream",
     "text": [
      "Give export file name with extension .xlsx discipline_analysis.xlsx\n"
     ]
    }
   ],
   "source": [
    "# write the name of the file with extension .xlsx\n",
    "Exportfile_name=input('Give export file name with extension .xlsx ',)\n",
    "wb.save(Exportfile_name)"
   ]
  },
  {
   "cell_type": "code",
   "execution_count": null,
   "metadata": {},
   "outputs": [],
   "source": []
  }
 ],
 "metadata": {
  "kernelspec": {
   "display_name": "Python 3 (ipykernel)",
   "language": "python",
   "name": "python3"
  },
  "language_info": {
   "codemirror_mode": {
    "name": "ipython",
    "version": 3
   },
   "file_extension": ".py",
   "mimetype": "text/x-python",
   "name": "python",
   "nbconvert_exporter": "python",
   "pygments_lexer": "ipython3",
   "version": "3.9.12"
  }
 },
 "nbformat": 4,
 "nbformat_minor": 4
}
