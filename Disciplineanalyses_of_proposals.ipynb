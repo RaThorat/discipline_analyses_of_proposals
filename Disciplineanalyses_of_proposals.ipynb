{
 "cells": [
  {
   "cell_type": "markdown",
   "metadata": {},
   "source": [
    "#  Mono-multidiscipline intra-interdomein analysis of the proposals"
   ]
  },
  {
   "cell_type": "markdown",
   "metadata": {},
   "source": [
    "It is important for a granting agency to know how the distribution of the applications qua disciplines is. \n",
    "ˆ How many applications belong to Exact Science disciplines, how many fall within one discipline?\n",
    "ˆ How many applications with disciplines outside exact sciences domain have been submitted?"
   ]
  },
  {
   "cell_type": "code",
   "execution_count": null,
   "metadata": {},
   "outputs": [],
   "source": [
    "#Importing various modules required for analysis\n",
    "import xlsxwriter \n",
    "import scipy.sparse as sp\n",
    "import numpy as np\n",
    "import os\n",
    "os.getcwd()\n",
    "import tkinter as tk\n",
    "from tkinter import filedialog\n",
    "import pandas as pd"
   ]
  },
  {
   "cell_type": "code",
   "execution_count": null,
   "metadata": {},
   "outputs": [],
   "source": [
    "#Importing the submitted proposals file with Tkinter module, 'Example input file submitted proposals.xlsx'\n",
    "root= tk.Tk()\n",
    "\n",
    "canvas1 = tk.Canvas(root, width = 600, height = 300, bg = 'lightsteelblue')\n",
    "canvas1.pack()\n",
    "\n",
    "def getExcel ():\n",
    "    global dfA\n",
    "    \n",
    "    import_file_path = filedialog.askopenfilename()\n",
    "    dfA = pd.read_excel (import_file_path)\n",
    "    #print (dfA)\n",
    "    \n",
    "browseButton_Excel = tk.Button(text='Import \"Example input file submitted proposals.xlsx\"', command=getExcel, bg='green', fg='white', font=('helvetica', 12, 'bold'))\n",
    "canvas1.create_window(200, 200, window=browseButton_Excel)\n",
    "\n",
    "root.mainloop()\n"
   ]
  },
  {
   "cell_type": "code",
   "execution_count": null,
   "metadata": {},
   "outputs": [],
   "source": [
    "#Importing the honored proposals file with Tkinter module\n",
    "root= tk.Tk()\n",
    "\n",
    "canvas1 = tk.Canvas(root, width = 600, height = 300, bg = 'lightsteelblue')\n",
    "canvas1.pack()\n",
    "\n",
    "def getExcel ():\n",
    "    global dfG\n",
    "    \n",
    "    import_file_path = filedialog.askopenfilename()\n",
    "    dfG = pd.read_excel (import_file_path)\n",
    "    #print (dfG)\n",
    "    \n",
    "browseButton_Excel = tk.Button(text='Import \"Example input file submitted proposals.xlsx\"', command=getExcel, bg='green', fg='white', font=('helvetica', 12, 'bold'))\n",
    "canvas1.create_window(200, 200, window=browseButton_Excel)\n",
    "\n",
    "root.mainloop()\n"
   ]
  },
  {
   "cell_type": "code",
   "execution_count": null,
   "metadata": {},
   "outputs": [],
   "source": [
    "#Turning the NaN values in the dataframes into zero values\n",
    "dfA=dfA.fillna(0)\n",
    "dfG=dfG.fillna(0)"
   ]
  },
  {
   "cell_type": "code",
   "execution_count": null,
   "metadata": {
    "scrolled": true
   },
   "outputs": [],
   "source": [
    "#checking the excel file in the form of data frame\n",
    "dfA.head(2)"
   ]
  },
  {
   "cell_type": "code",
   "execution_count": null,
   "metadata": {},
   "outputs": [],
   "source": [
    "len(dfA.index)"
   ]
  },
  {
   "cell_type": "code",
   "execution_count": null,
   "metadata": {},
   "outputs": [],
   "source": [
    "#checking how many rows and columns the dataframe has\n",
    "dfA.shape"
   ]
  },
  {
   "cell_type": "code",
   "execution_count": null,
   "metadata": {},
   "outputs": [],
   "source": [
    "#checking the excel file in the form of data frame\n",
    "dfG.head(2)"
   ]
  },
  {
   "cell_type": "code",
   "execution_count": null,
   "metadata": {
    "scrolled": true
   },
   "outputs": [],
   "source": [
    "#checking how many rows and columns the dataframe has\n",
    "#dfG.shape"
   ]
  },
  {
   "cell_type": "code",
   "execution_count": null,
   "metadata": {},
   "outputs": [],
   "source": [
    "#Adding a column for counting all discipline appearances per proposal\n",
    "dfA['All_Discipline_count']=dfA.loc[:,'Aardwetenschappen' : 'Wiskunde'].sum(axis=1)\n",
    "dfG['All_Discipline_count']=dfG.loc[:,'Aardwetenschappen' : 'Wiskunde'].sum(axis=1)\n",
    "#Adding a column ENWtotaal for counting ENW discipline appearances per proposal\n",
    "dfA['ENW_Discipline_count']=dfA.loc[:, ['Aardwetenschappen', 'Biologie', 'Informatica','Levenswetenschappen', 'Milieuwetenschap', 'Natuurkunde', 'Scheikunde', 'Sterrenkunde, astrofysica', 'Wiskunde']].sum(axis=1)\n",
    "dfG['ENW_Discipline_count']=dfG.loc[:, ['Aardwetenschappen', 'Biologie', 'Informatica','Levenswetenschappen', 'Milieuwetenschap', 'Natuurkunde', 'Scheikunde', 'Sterrenkunde, astrofysica', 'Wiskunde']].sum(axis=1)\n",
    "#Segregating multidiscipline proposals from monodiscipline proposals in apart dataframe\n",
    "dfA_multidisci=dfA[(dfA.All_Discipline_count>1)]\n",
    "dfG_multidisci=dfG[(dfA.All_Discipline_count>1)]\n",
    "#Segregating ENW monodiscipline proposals from non ENW monodiscipline proposals in apart dataframe\n",
    "dfA_ENW_monodisci=dfA[(dfA.All_Discipline_count==1) & (dfA.ENW_Discipline_count==1)]\n",
    "dfG_ENW_monodisci=dfA[(dfG.All_Discipline_count==1) & (dfG.ENW_Discipline_count==1)]\n",
    "#Segregating non ENW monodiscipline proposals from non ENW monodiscipline proposals in apart dataframe\n",
    "dfA_zonder_ENW_monodisci=dfA[(dfA.All_Discipline_count==1) & (dfA.ENW_Discipline_count==0)]#selecting the non ENW monodiscipline rows\n",
    "dfG_zonder_ENW_monodisci=dfG[(dfG.All_Discipline_count==1) & (dfG.ENW_Discipline_count==0)]#selecting the non ENW monodiscipline rows\n",
    "#If the selection of ENW monodiscipline columns is needed, run the following:\n",
    "#dfA_ENW_mono1=dfA_ENW_mono.loc[:,['Aardwetenschappen', 'Biologie', 'Informatica','Levenswetenschappen', 'Milieuwetenschap', 'Natuurkunde', 'Scheikunde', 'Sterrenkunde, astrofysica', 'Wiskunde']]\n",
    "#dfG_ENW_mono1=dfG_ENW_mono.loc[:,['Aardwetenschappen', 'Biologie', 'Informatica','Levenswetenschappen', 'Milieuwetenschap', 'Natuurkunde', 'Scheikunde', 'Sterrenkunde, astrofysica', 'Wiskunde']]\n"
   ]
  },
  {
   "cell_type": "code",
   "execution_count": null,
   "metadata": {},
   "outputs": [],
   "source": [
    "#checking multidiscipline proposals dataframe\n",
    "#dfA_multidisci.head(5)"
   ]
  },
  {
   "cell_type": "code",
   "execution_count": null,
   "metadata": {},
   "outputs": [],
   "source": [
    "#checking ENW monodiscipline proposals dataframe\n",
    "#dfA_ENW_monodisci.head(2)"
   ]
  },
  {
   "cell_type": "code",
   "execution_count": null,
   "metadata": {},
   "outputs": [],
   "source": [
    "#checking non ENW monodiscipline proposals dataframe\n",
    "#dfA_zonder_ENW_monodisci.head(2)"
   ]
  },
  {
   "cell_type": "code",
   "execution_count": null,
   "metadata": {},
   "outputs": [],
   "source": [
    "#Segregating interdomein multidiscipline proposals (containing ENW disciplines) in apart dataframe\n",
    "dfA_interdom_multidisci=dfA.loc[(dfA.All_Discipline_count>1) & (dfA.All_Discipline_count!=dfA.ENW_Discipline_count) & (dfA.ENW_Discipline_count!=0)]\n",
    "dfG_interdom_multidisci=dfG.loc[(dfG.All_Discipline_count>1) & (dfG.All_Discipline_count!=dfG.ENW_Discipline_count)& (dfG.ENW_Discipline_count!=0)]\n",
    "#Segregating intradomein multidiscipline proposals (containing ENW disciplines) in apart dataframe\n",
    "dfA_intradom_multidisci=dfA.loc[(dfA.All_Discipline_count>1) & (dfA.All_Discipline_count==dfA.ENW_Discipline_count)]\n",
    "dfG_intradom_multidisci=dfG.loc[(dfG.All_Discipline_count>1) & (dfG.All_Discipline_count==dfG.ENW_Discipline_count)]\n",
    "#Segregating without ENW multidiscipline proposals in apart dataframe\n",
    "dfA_zonder_ENW_multidisci=dfA.loc[(dfA.All_Discipline_count>1) & (dfA.ENW_Discipline_count==0)]\n",
    "dfG_zonder_ENW_multidisci=dfG.loc[(dfG.All_Discipline_count>1) & (dfG.ENW_Discipline_count==0)]"
   ]
  },
  {
   "cell_type": "code",
   "execution_count": null,
   "metadata": {},
   "outputs": [],
   "source": [
    "#creation of a summary dataframe\n",
    "df_summary = pd.DataFrame(columns = ['Aanvraag karakter', 'Aanvragen', 'Gehonoreerd'])\n",
    "df_summary['Aanvraag karakter']=['ENW monodisci', 'ENW intradomein multidisci','ENW interdomein multidisci','zonder ENW monodisci', 'zonder ENW multidisci', 'Total']\n",
    "df_summary['Aanvragen']=[dfA_ENW_monodisci.ENW_Discipline_count.count(), dfA_intradom_multidisci.All_Discipline_count.count(), dfA_interdom_multidisci.All_Discipline_count.count(), dfA_zonder_ENW_monodisci.All_Discipline_count.count(), dfA_zonder_ENW_multidisci.All_Discipline_count.count(), dfA_ENW_monodisci.ENW_Discipline_count.count()+ dfA_intradom_multidisci.All_Discipline_count.count()+ dfA_interdom_multidisci.All_Discipline_count.count()+ dfA_zonder_ENW_monodisci.All_Discipline_count.count()+ dfA_zonder_ENW_multidisci.All_Discipline_count.count()]\n",
    "df_summary['Gehonoreerd']=[dfG_ENW_monodisci.ENW_Discipline_count.count(), dfG_intradom_multidisci.All_Discipline_count.count(), dfG_interdom_multidisci.All_Discipline_count.count(), dfG_zonder_ENW_monodisci.All_Discipline_count.count(), dfG_zonder_ENW_multidisci.All_Discipline_count.count(), dfG_ENW_monodisci.ENW_Discipline_count.count()+dfG_intradom_multidisci.All_Discipline_count.count()+dfG_interdom_multidisci.All_Discipline_count.count()+ dfG_zonder_ENW_monodisci.All_Discipline_count.count()+ dfG_zonder_ENW_multidisci.All_Discipline_count.count()]\n",
    "#df_summary['Aanvragen']=[46, 45, 393, 102, 168]\n",
    "#df_summary['Gehonoreerd']=[15, 12, 25, 23, 11]\n",
    "#df_summary.append(df_summary.sum(numeric_only=True), ignore_index=True)\n",
    "#adding a column of % honoreringen\n",
    "df_summary['% Honorering']=df_summary['Gehonoreerd'].div(df_summary['Aanvragen'].values, axis=0)\n",
    "df_summary['% Honorering']=df_summary['% Honorering'].mul(100).round(1)\n",
    "#check the summary dataframe\n",
    "#df_summary"
   ]
  },
  {
   "cell_type": "code",
   "execution_count": null,
   "metadata": {},
   "outputs": [],
   "source": [
    "#Dropping the columns unncessary for next steps data processing\n",
    "dfA_clean_multidisci=dfA_multidisci.drop(columns=['Rijlabels', 'All_Discipline_count', 'ENW_Discipline_count'])\n",
    "dfG_clean_multidisci=dfG_multidisci.drop(columns=['Rijlabels', 'All_Discipline_count', 'ENW_Discipline_count'])"
   ]
  },
  {
   "cell_type": "code",
   "execution_count": null,
   "metadata": {},
   "outputs": [],
   "source": [
    "#Creation of co-occurance matrix for submitted proposals\n",
    "cols = dfA_clean_multidisci.columns\n",
    "XA = sp.csr_matrix(dfA_clean_multidisci.astype(int).values)\n",
    "XcA = XA.T * XA  # multiply sparse matrix\n",
    "XcA.setdiag(0)  # reset diagonal\n",
    "\n",
    "# create dataframe from co-occurence matrix in dense format\n",
    "dfA_co_occ_mtx = pd.DataFrame(XcA.todense(), index=cols, columns=cols)"
   ]
  },
  {
   "cell_type": "code",
   "execution_count": null,
   "metadata": {},
   "outputs": [],
   "source": [
    "#Creation of co-occurance matrix for honored proposals\n",
    "cols = dfG_clean_multidisci.columns\n",
    "XG = sp.csr_matrix(dfG_clean_multidisci.astype(int).values)\n",
    "XcG = XG.T * XG  # multiply sparse matrix\n",
    "XcG.setdiag(0)  # reset diagonal\n",
    "\n",
    "# create dataframe from co-occurence matrix in dense format\n",
    "dfG_co_occ_mtx = pd.DataFrame(XcG.todense(), index=cols, columns=cols)"
   ]
  },
  {
   "cell_type": "code",
   "execution_count": null,
   "metadata": {},
   "outputs": [],
   "source": [
    "#create co occurance matrix dataset in a format for VOSviewer\n",
    "#for submitted proposals\n",
    "dfA_netwerk = dfA_co_occ_mtx.stack().reset_index()\n",
    "dfA_netwerk.columns = ['source', 'target', 'weight']\n",
    "#for honored proposals\n",
    "dfG_netwerk = dfG_co_occ_mtx.stack().reset_index()\n",
    "dfG_netwerk.columns = ['source', 'target', 'weight']"
   ]
  },
  {
   "cell_type": "code",
   "execution_count": null,
   "metadata": {},
   "outputs": [],
   "source": [
    "#Example of selecting a specific cell of the data frame.  \n",
    "#dfA_ENW_monodisci.iloc[0,10]"
   ]
  },
  {
   "cell_type": "code",
   "execution_count": null,
   "metadata": {},
   "outputs": [],
   "source": [
    "#Shape of dataframe for ENW monodiscipline proposals\n",
    "#dfA_ENW_monodisci.shape"
   ]
  },
  {
   "cell_type": "code",
   "execution_count": null,
   "metadata": {},
   "outputs": [],
   "source": [
    "#Finding discipline from each monodiscipline proposal\n",
    "# Pay attention to how iloc a cell selects. 'Rijlabels' is zeroth column. \n",
    "dfA_ENW_mono_disciplines = pd.DataFrame(columns = ['Aanvraag_nummer', 'Discipline_list', 'All_Discipline_count'])\n",
    "i=0 #starts from oth row\n",
    "j=1 #starts from 1st column\n",
    "Aanvraag_nummer=0\n",
    "k=dfA_ENW_monodisci.columns.get_loc(\"All_Discipline_count\") #column number where the All_Discipline_count is\n",
    "l=len(dfA_ENW_monodisci.index)#number of rows\n",
    "for i in range (0,l):\n",
    "    Discipline_count=0 #introducing zero discipline count\n",
    "    Discipline_list=\" \" #introducing empty discipline list\n",
    "    for j in range (1,k): #while the rows are not exhausted\n",
    "        if (dfA_ENW_monodisci.iloc[i,j]==1) & (Discipline_count<dfA_ENW_monodisci.iloc[i,k]): #if the given cell has 1 as value\n",
    "            Discipline_list=Discipline_list+ dfA_ENW_monodisci.columns[j] #adds a column name to discipline list\n",
    "            Discipline_count+=1 #counts the number of disciplines with 1 as value\n",
    "            if Discipline_count==dfA_ENW_monodisci.iloc[i,k]:\n",
    "                Aanvraag_nummer=dfA_ENW_monodisci.iloc[i,0]\n",
    "                new_row = {'Aanvraag_nummer':Aanvraag_nummer, 'Discipline_list':Discipline_list, 'All_Discipline_count':dfA_ENW_monodisci.iloc[i,k]}\n",
    "                dfA_ENW_mono_disciplines = dfA_ENW_mono_disciplines.append(new_row, ignore_index=True)\n",
    "#print(dfA_ENW_mono_disciplines)"
   ]
  },
  {
   "cell_type": "code",
   "execution_count": null,
   "metadata": {},
   "outputs": [],
   "source": [
    "#shape (rows and columns) of the intradomein multidiscipline dataframe\n",
    "#dfA_intradom_multidisci.shape"
   ]
  },
  {
   "cell_type": "code",
   "execution_count": null,
   "metadata": {},
   "outputs": [],
   "source": [
    "#Shape (rows and columns) of the dataframe\n",
    "#dfA_interdom_multidisci.shape"
   ]
  },
  {
   "cell_type": "code",
   "execution_count": null,
   "metadata": {},
   "outputs": [],
   "source": [
    "#Finding disciplines from each intradomein multidiscipline submitted proposal\n",
    "#The name for the dataframe with disciplines is given dfA_multi_intradom_disciplines, to differentiate from the dataframe with discipline counts\n",
    "dfA_multi_intradom_disciplines = pd.DataFrame(columns = ['Aanvraag_nummer', 'Discipline_list', 'All_Discipline_count'])\n",
    "i=0 #starts from oth row\n",
    "j=1 #starts from 1st column\n",
    "Aanvraag_nummer=0\n",
    "k=dfA_intradom_multidisci.columns.get_loc(\"All_Discipline_count\")#column number where the All_Discipline_count is\n",
    "l=len(dfA_intradom_multidisci.index)#number of rows\n",
    "for i in range (0,l):\n",
    "    Discipline_count=0 #introducing zero discipline count\n",
    "    Discipline_list=\" \" #introducing empty discipline list\n",
    "    for j in range (1,k): #while the rows are not exhausted\n",
    "        if (dfA_intradom_multidisci.iloc[i,j]==1) & (Discipline_count<dfA_intradom_multidisci.iloc[i,k]): #if the given cell has 1 as value\n",
    "            Discipline_list=Discipline_list+ dfA_intradom_multidisci.columns[j]+\"/\" #adds a column name to discipline list\n",
    "            Discipline_count+=1 #counts the number of disciplines with 1 as value\n",
    "            if Discipline_count==dfA_intradom_multidisci.iloc[i,k]:\n",
    "                Aanvraag_nummer=dfA_intradom_multidisci.iloc[i,0]\n",
    "                new_row = {'Aanvraag_nummer':Aanvraag_nummer, 'Discipline_list':Discipline_list, 'All_Discipline_count':dfA_intradom_multidisci.iloc[i,k]}\n",
    "                dfA_multi_intradom_disciplines = dfA_multi_intradom_disciplines.append(new_row, ignore_index=True)\n",
    "                #print(discipline_list)\n",
    "#print(dfA_multi_intradom_disciplines)"
   ]
  },
  {
   "cell_type": "code",
   "execution_count": null,
   "metadata": {},
   "outputs": [],
   "source": [
    "#Finding disciplines from each interdomein multidiscipline submitted proposal\n",
    "dfA_multi_interdom_disciplines = pd.DataFrame(columns = ['Aanvraag_nummer', 'Discipline_list', 'All_Discipline_count'])\n",
    "i=0 #starts from oth row\n",
    "j=1 #starts from 1st column\n",
    "Aanvraag_nummer=0\n",
    "k=dfA_interdom_multidisci.columns.get_loc(\"All_Discipline_count\") #column number where the All_Discipline_count is\n",
    "l=len(dfA_interdom_multidisci.index)#number of rows\n",
    "for i in range (0,l):\n",
    "    Discipline_count=0 #introducing zero discipline count\n",
    "    Discipline_list=\" \" #introducing empty discipline list\n",
    "    for j in range (1,k): #while the rows are not exhausted\n",
    "        if (dfA_interdom_multidisci.iloc[i,j]==1) & (Discipline_count<dfA_interdom_multidisci.iloc[i,k]): #if the given cell has 1 as value\n",
    "            Discipline_list=Discipline_list+ dfA_interdom_multidisci.columns[j]+\"/\" #adds a column name to discipline list\n",
    "            Discipline_count+=1 #counts the number of disciplines with 1 as value\n",
    "            if Discipline_count==dfA_interdom_multidisci.iloc[i,k]:\n",
    "                Aanvraag_nummer=dfA_interdom_multidisci.iloc[i,0]\n",
    "                new_row = {'Aanvraag_nummer':Aanvraag_nummer, 'Discipline_list':Discipline_list, 'All_Discipline_count':dfA_interdom_multidisci.iloc[i,k]}\n",
    "                dfA_multi_interdom_disciplines = dfA_multi_interdom_disciplines.append(new_row, ignore_index=True)\n",
    "                #print(discipline_list)\n",
    "#(dfA_multi_interdom_disciplines)"
   ]
  },
  {
   "cell_type": "code",
   "execution_count": null,
   "metadata": {},
   "outputs": [],
   "source": [
    "#Shape (rows and columns) of the dataframe\n",
    "#dfG_ENW_monodisci.shape"
   ]
  },
  {
   "cell_type": "code",
   "execution_count": null,
   "metadata": {},
   "outputs": [],
   "source": [
    "#Finding disciplines from each monodiscipline honored proposal\n",
    "dfG_ENW_mono_disciplines = pd.DataFrame(columns = ['Aanvraag_nummer', 'Discipline_list', 'All_Discipline_count'])\n",
    "i=0 #starts from oth row\n",
    "j=1 #starts from 1st column\n",
    "Aanvraag_nummer=0\n",
    "k=dfG_ENW_monodisci.columns.get_loc(\"All_Discipline_count\") #column number where the All_Discipline_count is\n",
    "l=len(dfG_ENW_monodisci.index)#number of rows\n",
    "for i in range (0,l):\n",
    "    Discipline_count=0 #introducing zero discipline count\n",
    "    Discipline_list=\" \" #introducing empty discipline list\n",
    "    for j in range (1,k): #while the rows are not exhausted\n",
    "        if (dfG_ENW_monodisci.iloc[i,j]==1) & (Discipline_count<dfG_ENW_monodisci.iloc[i,k]): #if the given cell has 1 as value\n",
    "            Discipline_list=Discipline_list+ dfG_ENW_monodisci.columns[j] #adds a column name to discipline list\n",
    "            Discipline_count+=1 #counts the number of disciplines with 1 as value\n",
    "            if Discipline_count==dfG_ENW_monodisci.iloc[i,k]:\n",
    "                Aanvraag_nummer=dfG_ENW_monodisci.iloc[i,0]\n",
    "                new_row = {'Aanvraag_nummer':Aanvraag_nummer, 'Discipline_list':Discipline_list, 'All_Discipline_count':dfG_ENW_monodisci.iloc[i,k]}\n",
    "                dfG_ENW_mono_disciplines = dfG_ENW_mono_disciplines.append(new_row, ignore_index=True)\n",
    "                #print(discipline_list)\n",
    "#(dfG_ENW_mono_disciplines)"
   ]
  },
  {
   "cell_type": "code",
   "execution_count": null,
   "metadata": {},
   "outputs": [],
   "source": [
    "#Shape (rows and columns) of the intradomei multidiscipline honored dataframe\n",
    "#dfG_intradom_multidisci.shape"
   ]
  },
  {
   "cell_type": "code",
   "execution_count": null,
   "metadata": {},
   "outputs": [],
   "source": [
    "#Finding disciplines from each intradomein multidiscipline proposal which is honored\n",
    "#The dataframe with disciplines is called dfA_multi_intradom_disciplines, to differentiate from the dataframe with discipline counts\n",
    "dfG_multi_intradom_disciplines = pd.DataFrame(columns = ['Aanvraag_nummer', 'Discipline_list', 'All_Discipline_count'])\n",
    "i=0 #starts from oth row\n",
    "j=1 #starts from 1st column\n",
    "Aanvraag_nummer=0\n",
    "k=dfG_intradom_multidisci.columns.get_loc(\"All_Discipline_count\") #column number where the All_Discipline_count is\n",
    "l=len(dfG_intradom_multidisci.index)#number of rows\n",
    "for i in range (0,l):\n",
    "    Discipline_count=0 #introducing zero discipline count\n",
    "    Discipline_list=\" \" #introducing empty discipline list\n",
    "    for j in range (1,k): #while the rows are not exhausted\n",
    "        if (dfG_intradom_multidisci.iloc[i,j]==1) & (Discipline_count<dfG_intradom_multidisci.iloc[i,k]): #if the given cell has 1 as value\n",
    "            Discipline_list=Discipline_list+ dfG_intradom_multidisci.columns[j]+\"/\" #adds a column name to discipline list\n",
    "            Discipline_count+=1 #counts the number of disciplines with 1 as value\n",
    "            if Discipline_count==dfG_intradom_multidisci.iloc[i,k]:\n",
    "                Aanvraag_nummer=dfG_intradom_multidisci.iloc[i,0]\n",
    "                new_row = {'Aanvraag_nummer':Aanvraag_nummer, 'Discipline_list':Discipline_list, 'All_Discipline_count':dfG_intradom_multidisci.iloc[i,k]}\n",
    "                dfG_multi_intradom_disciplines = dfG_multi_intradom_disciplines.append(new_row, ignore_index=True)\n",
    "                #print(discipline_list)\n",
    "#print(dfG_multi_intradom_disciplines)"
   ]
  },
  {
   "cell_type": "code",
   "execution_count": null,
   "metadata": {},
   "outputs": [],
   "source": [
    "#Shape (rows and columns) of the dataframe\n",
    "#dfG_interdom_multidisci.shape"
   ]
  },
  {
   "cell_type": "code",
   "execution_count": null,
   "metadata": {
    "scrolled": true
   },
   "outputs": [],
   "source": [
    "#Finding disciplines from each multi discipline interdomein honored proposal contains\n",
    "dfG_multi_interdom_disciplines = pd.DataFrame(columns = ['Aanvraag_nummer', 'Discipline_list', 'All_Discipline_count'])\n",
    "i=0 #starts from oth row\n",
    "j=1 #starts from 1st column\n",
    "Aanvraag_nummer=0\n",
    "k=dfG_interdom_multidisci.columns.get_loc(\"All_Discipline_count\")  #column number where the All_Discipline_count is\n",
    "l=len(dfG_interdom_multidisci.index)#number of rows\n",
    "for i in range (0,l):\n",
    "    Discipline_count=0 #introducing zero discipline count\n",
    "    Discipline_list=\" \" #introducing empty discipline list\n",
    "    for j in range (1,k): #while the rows are not exhausted\n",
    "        if (dfG_interdom_multidisci.iloc[i,j]==1) & (Discipline_count<dfG_interdom_multidisci.iloc[i,k]): #if the given cell has 1 as value\n",
    "            Discipline_list=Discipline_list+ dfG_interdom_multidisci.columns[j]+\"/\" #adds a column name to discipline list\n",
    "            Discipline_count+=1 #counts the number of disciplines with 1 as value\n",
    "            if Discipline_count==dfG_interdom_multidisci.iloc[i,k]:\n",
    "                Aanvraag_nummer=dfG_interdom_multidisci.iloc[i,0]\n",
    "                new_row = {'Aanvraag_nummer':Aanvraag_nummer, 'Discipline_list':Discipline_list, 'All_Discipline_count':dfG_interdom_multidisci.iloc[i,k]}\n",
    "                dfG_multi_interdom_disciplines = dfG_multi_interdom_disciplines.append(new_row, ignore_index=True)\n",
    "                #print(discipline_list)\n",
    "#print(dfG_multi_interdom_disciplines)"
   ]
  },
  {
   "cell_type": "code",
   "execution_count": null,
   "metadata": {
    "scrolled": true
   },
   "outputs": [],
   "source": [
    "#reindexing monodiscipline dataframes with Disciplines and number of counts as columns\n",
    "dfA_mono_reindex=dfA_ENW_mono_disciplines.Discipline_list.value_counts().reset_index().rename(columns={'index': 'Disciplines', 0: 'count'})\n",
    "dfG_mono_reindex=dfG_ENW_mono_disciplines.Discipline_list.value_counts().reset_index().rename(columns={'index': 'Disciplines', 0: 'count'})"
   ]
  },
  {
   "cell_type": "code",
   "execution_count": null,
   "metadata": {},
   "outputs": [],
   "source": [
    "#Merging the submitted and the honored monodiscipline proposals dataframes\n",
    "df_summary_monodisci=pd.merge(dfA_mono_reindex, dfG_mono_reindex, on=\"Disciplines\", how=\"left\")\n",
    "# Rename the existing DataFrame (rather than creating a copy) \n",
    "df_summary_monodisci.rename(columns={'Discipline_list_x': 'Aanvragen', 'Discipline_list_y': 'Gehonoreerd'}, inplace=True)\n",
    "\n",
    "#adding a column of % honoreringen\n",
    "df_summary_monodisci['% Honorering']=df_summary_monodisci['Gehonoreerd'].div(df_summary_monodisci['Aanvragen'].values, axis=0)\n",
    "df_summary_monodisci['% Honorering']=df_summary_monodisci['% Honorering'].mul(100).round(1)\n",
    "df_summary_monodisci=df_summary_monodisci.fillna(0)"
   ]
  },
  {
   "cell_type": "code",
   "execution_count": null,
   "metadata": {},
   "outputs": [],
   "source": [
    "#reindexing multidiscipline intradomein dataframes with Disciplines and number of counts as columns\n",
    "dfA_intradom_multidisci_reindex=dfA_multi_intradom_disciplines.Discipline_list.value_counts().reset_index().rename(columns={'index': 'Disciplines', 0: 'count'})\n",
    "dfG_intradom_multidisci_reindex=dfG_multi_intradom_disciplines.Discipline_list.value_counts().reset_index().rename(columns={'index': 'Disciplines', 0: 'count'})"
   ]
  },
  {
   "cell_type": "code",
   "execution_count": null,
   "metadata": {},
   "outputs": [],
   "source": [
    "#Merging the submitted and the honored multidiscipline intradomein proposals dataframes\n",
    "df_summary_intradom_multidisci=pd.merge(dfA_intradom_multidisci_reindex, dfG_intradom_multidisci_reindex, on=\"Disciplines\", how=\"left\")\n",
    "# Rename the existing DataFrame (rather than creating a copy) \n",
    "df_summary_intradom_multidisci.rename(columns={'Discipline_list_x': 'Aanvragen', 'Discipline_list_y': 'Gehonoreerd'}, inplace=True)\n",
    "\n",
    "#adding a column of % honoreringen\n",
    "df_summary_intradom_multidisci['% Honorering']=df_summary_intradom_multidisci['Gehonoreerd'].div(df_summary_intradom_multidisci['Aanvragen'].values, axis=0)\n",
    "df_summary_intradom_multidisci['% Honorering']=df_summary_intradom_multidisci['% Honorering'].mul(100).round(1)\n",
    "df_summary_intradom_multidisci=df_summary_intradom_multidisci.fillna(0)"
   ]
  },
  {
   "cell_type": "code",
   "execution_count": null,
   "metadata": {},
   "outputs": [],
   "source": [
    "#reindexing multidiscipline interdomein dataframes with Disciplines and number of counts as columns\n",
    "dfA_interdom_multidisci_reindex=dfA_multi_interdom_disciplines.Discipline_list.value_counts().reset_index().rename(columns={'index': 'Disciplines', 0: 'count'})\n",
    "dfG_interdom_multidisci_reindex=dfG_multi_interdom_disciplines.Discipline_list.value_counts().reset_index().rename(columns={'index': 'Disciplines', 0: 'count'})"
   ]
  },
  {
   "cell_type": "code",
   "execution_count": null,
   "metadata": {
    "scrolled": false
   },
   "outputs": [],
   "source": [
    "#Merging the submitted and the honored multidiscipline interdomein proposals dataframes\n",
    "df_summary_interdom_multidisci=pd.merge(dfA_interdom_multidisci_reindex, dfG_interdom_multidisci_reindex, on=\"Disciplines\", how=\"left\")\n",
    "# Rename the existing DataFrame (rather than creating a copy) \n",
    "df_summary_interdom_multidisci.rename(columns={'Discipline_list_x': 'Aanvragen', 'Discipline_list_y': 'Gehonoreerd'}, inplace=True)\n",
    "\n",
    "#adding a column of % honoreringen\n",
    "df_summary_interdom_multidisci['% Honorering']=df_summary_interdom_multidisci['Gehonoreerd'].div(df_summary_interdom_multidisci['Aanvragen'].values, axis=0)\n",
    "df_summary_interdom_multidisci['% Honorering']=df_summary_interdom_multidisci['% Honorering'].mul(100).round(1)\n",
    "df_summary_interdom_multidisci=df_summary_interdom_multidisci.fillna(0)"
   ]
  },
  {
   "cell_type": "code",
   "execution_count": null,
   "metadata": {},
   "outputs": [],
   "source": [
    "#The openpyxl.utils.dataframe.dataframe_to_rows() function provides a simple way to work with Pandas Dataframes:\n",
    "\n",
    "from openpyxl.utils.dataframe import dataframe_to_rows\n",
    "from openpyxl import Workbook\n",
    "from openpyxl.chart import BarChart, Series, Reference\n",
    "\n",
    "\n",
    "wb = Workbook()\n",
    "ws = wb.active\n",
    "#ws = wb.create_sheet(\"Samenvatting\", 0) \n",
    "ws.title='Samenvatting'\n",
    "\n",
    "for r in dataframe_to_rows(df_summary, index=False, header=True):\n",
    "    ws.append(r)\n",
    "\n",
    "for cell in ws['A'] + ws[1]:\n",
    "    cell.style = 'Pandas'\n",
    "\n",
    "chart0 = BarChart()\n",
    "chart0.type = \"col\"\n",
    "chart0.style = 10\n",
    "chart0.title = \"Samenvatting\"\n",
    "chart0.y_axis.title = 'Aantal'\n",
    "chart0.x_axis.title = ''\n",
    "\n",
    "data = Reference(ws, min_col=2, min_row=1, max_row=6, max_col=3)\n",
    "cats = Reference(ws, min_col=1, min_row=2, max_row=6)\n",
    "chart0.add_data(data, titles_from_data=True)\n",
    "chart0.set_categories(cats)\n",
    "chart0.shape = 20\n",
    "ws.add_chart(chart0, \"F1\")\n",
    "\n",
    "#writing summary of analysis for monodisci, intradom_multidisci, interdom_multidisci dataframes in subsequent excel sheets\n",
    "ws1 = wb.create_sheet(\"Monodiscipline\", 1) \n",
    "for r in dataframe_to_rows(df_summary_monodisci, index=False, header=True):\n",
    "    ws1.append(r)\n",
    "\n",
    "chart1 = BarChart()\n",
    "chart1.type = \"col\"\n",
    "chart1.style = 10\n",
    "chart1.title = \"Monodiscipline Karakter\"\n",
    "chart1.y_axis.title = 'Aantal'\n",
    "chart1.x_axis.title = ''\n",
    "\n",
    "data = Reference(ws1, min_col=2, min_row=1, max_row=(len(df_summary_monodisci.index)+1), max_col=3)\n",
    "cats = Reference(ws1, min_col=1, min_row=2, max_row=(len(df_summary_monodisci.index)+1))\n",
    "chart1.add_data(data, titles_from_data=True)\n",
    "chart1.set_categories(cats)\n",
    "chart1.shape = 20\n",
    "ws1.add_chart(chart1, \"F1\")\n",
    "    \n",
    "ws2 = wb.create_sheet(\"Intradomein multidisciplinaire\", 2)\n",
    "for r in dataframe_to_rows(df_summary_intradom_multidisci, index=False, header=True):\n",
    "    ws2.append(r)\n",
    "\n",
    "chart2 = BarChart()\n",
    "chart2.type = \"col\"\n",
    "chart2.style = 10\n",
    "chart2.title = \"Intradomein multidisciplinaire Karakter\"\n",
    "chart2.y_axis.title = 'Aantal'\n",
    "chart2.x_axis.title = ''\n",
    "\n",
    "data = Reference(ws2, min_col=2, min_row=1, max_row=(len(df_summary_intradom_multidisci.index)+1), max_col=3)\n",
    "cats = Reference(ws2, min_col=1, min_row=2, max_row=(len(df_summary_intradom_multidisci.index)+1))\n",
    "chart2.add_data(data, titles_from_data=True)\n",
    "chart2.set_categories(cats)\n",
    "chart2.shape = 40\n",
    "ws2.add_chart(chart2, \"F1\")\n",
    "\n",
    "ws3 = wb.create_sheet(\"Interdomein multidisciplinaire\", 3)\n",
    "for r in dataframe_to_rows(df_summary_interdom_multidisci, index=False, header=True):\n",
    "    ws3.append(r)\n",
    "    \n",
    "chart3 = BarChart()\n",
    "chart3.type = \"col\"\n",
    "chart3.style = 10\n",
    "chart3.title = \"Interdomein multidisciplinaire Karakter\"\n",
    "chart3.y_axis.title = 'Aantal'\n",
    "chart3.x_axis.title = ''\n",
    "\n",
    "data = Reference(ws3, min_col=2, min_row=1, max_row=(len(df_summary_interdom_multidisci.index)+1), max_col=3)\n",
    "cats = Reference(ws3, min_col=1, min_row=2, max_row=(len(df_summary_interdom_multidisci.index)+1))\n",
    "chart3.add_data(data, titles_from_data=True)\n",
    "chart3.set_categories(cats)\n",
    "chart3.shape = 80\n",
    "ws3.add_chart(chart3, \"F1\")\n",
    "\n",
    "\n",
    "#Writing a co-occurance matrix and file for VOS viewer for submitted proposals\n",
    "ws4=wb.create_sheet(\"AV Co occurance matrix\", 4)\n",
    "for r in dataframe_to_rows(dfA_co_occ_mtx, index=True, header=True):\n",
    "    ws4.append(r)\n",
    "\n",
    "ws5=wb.create_sheet(\"AV Network file VOS viewer\", 5)\n",
    "for r in dataframe_to_rows(dfA_netwerk, index=False, header=True):\n",
    "    ws5.append(r)\n",
    "\n",
    "\n",
    "#Writing a co-occurance matrix and file for VOS viewer for honored proposals\n",
    "ws6=wb.create_sheet(\"HON Co occurance matrix\", 6)\n",
    "for r in dataframe_to_rows(dfG_co_occ_mtx, index=True, header=True):\n",
    "    ws6.append(r)\n",
    "\n",
    "ws7=wb.create_sheet(\"HON Network file VOS viewer\", 7)\n",
    "for r in dataframe_to_rows(dfG_netwerk, index=False, header=True):\n",
    "    ws7.append(r)\n",
    "\n",
    "\n",
    "#saving the excel workbook\n",
    "Exportfile_name=input('Give export file name with extension .xlsx ',)# write the name of the file with extension .xlsx\n",
    "wb.save(Exportfile_name)"
   ]
  }
 ],
 "metadata": {
  "kernelspec": {
   "display_name": "Python 3 (ipykernel)",
   "language": "python",
   "name": "python3"
  },
  "language_info": {
   "codemirror_mode": {
    "name": "ipython",
    "version": 3
   },
   "file_extension": ".py",
   "mimetype": "text/x-python",
   "name": "python",
   "nbconvert_exporter": "python",
   "pygments_lexer": "ipython3",
   "version": "3.8.5"
  }
 },
 "nbformat": 4,
 "nbformat_minor": 4
}
